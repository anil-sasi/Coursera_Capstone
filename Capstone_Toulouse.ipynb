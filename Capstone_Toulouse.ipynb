{
 "cells": [
  {
   "cell_type": "markdown",
   "metadata": {},
   "source": [
    "# Analysis of a Business Location"
   ]
  },
  {
   "cell_type": "markdown",
   "metadata": {},
   "source": [
    "## 1. Introduction"
   ]
  },
  {
   "cell_type": "markdown",
   "metadata": {},
   "source": [
    "Data collection and analysis can be an important aspect in the success of a business even before it is even started. For example, the popularity of a business will depend on the features of its opening. This is especially true for very public businesses. One of those features is the location. This project aims to find good candidates for the location to start a business using location data and its analysis. The city I have chosen is Toulouse, France and the business - a Games and Recreation Center.     \n",
    "The principle in this analysis is to predict the popularity of businesses in certain locations and also predict the lifestyle and preferences of residents there. This will lead to the generation of certain patterns which ulimately can be used to identify a few candidate locations.      \n",
    "This analysis would be of interest to not only new entrepreneurs, but business people who wish to expand their enterprises, government and private survey agencies, and also social media. The importance to these and potentially more stakeholders is the value to this project."
   ]
  },
  {
   "cell_type": "markdown",
   "metadata": {},
   "source": [
    "## 2. Data"
   ]
  },
  {
   "cell_type": "markdown",
   "metadata": {},
   "source": [
    "The data used in this project is of 2 parts:     \n",
    "1. Location data of Toulouse neighborhoods/quartiers.\n",
    "2. Foursquare data of venues here."
   ]
  },
  {
   "cell_type": "markdown",
   "metadata": {},
   "source": [
    "The basic database for the location data is downloaded from the site data.toulouse-metropole.fr.     \n",
    "The link is given [here](https://data.toulouse-metropole.fr/explore/dataset/recensement-population-2016-grands-quartiers-familles/download/?format=csv&timezone=Europe/Berlin&lang=fr&use_labels_for_header=true&csv_separator=%3B)     \n",
    "\n",
    "The raw data will also be cleaned to remove unnecessary information and produce an optimum dataframe."
   ]
  },
  {
   "cell_type": "code",
   "execution_count": 1,
   "metadata": {},
   "outputs": [],
   "source": [
    "import pandas as pd\n",
    "import numpy as np"
   ]
  },
  {
   "cell_type": "code",
   "execution_count": 2,
   "metadata": {},
   "outputs": [
    {
     "data": {
      "text/html": [
       "<div>\n",
       "<style scoped>\n",
       "    .dataframe tbody tr th:only-of-type {\n",
       "        vertical-align: middle;\n",
       "    }\n",
       "\n",
       "    .dataframe tbody tr th {\n",
       "        vertical-align: top;\n",
       "    }\n",
       "\n",
       "    .dataframe thead th {\n",
       "        text-align: right;\n",
       "    }\n",
       "</style>\n",
       "<table border=\"1\" class=\"dataframe\">\n",
       "  <thead>\n",
       "    <tr style=\"text-align: right;\">\n",
       "      <th></th>\n",
       "      <th>Geo Point</th>\n",
       "      <th>Libellé des grands quartiers</th>\n",
       "    </tr>\n",
       "  </thead>\n",
       "  <tbody>\n",
       "    <tr>\n",
       "      <th>0</th>\n",
       "      <td>43.607587822,1.43979368004</td>\n",
       "      <td>ARNAUD BERNARD</td>\n",
       "    </tr>\n",
       "    <tr>\n",
       "      <th>1</th>\n",
       "      <td>43.6134014354,1.44269511567</td>\n",
       "      <td>LES CHALETS</td>\n",
       "    </tr>\n",
       "    <tr>\n",
       "      <th>2</th>\n",
       "      <td>43.6191621779,1.43195460628</td>\n",
       "      <td>MINIMES</td>\n",
       "    </tr>\n",
       "    <tr>\n",
       "      <th>3</th>\n",
       "      <td>43.5791097556,1.45915760009</td>\n",
       "      <td>SAUZELONG - RANGUEIL</td>\n",
       "    </tr>\n",
       "    <tr>\n",
       "      <th>4</th>\n",
       "      <td>43.579089711,1.41516717099</td>\n",
       "      <td>FAOURETTE</td>\n",
       "    </tr>\n",
       "  </tbody>\n",
       "</table>\n",
       "</div>"
      ],
      "text/plain": [
       "                     Geo Point Libellé des grands quartiers\n",
       "0   43.607587822,1.43979368004               ARNAUD BERNARD\n",
       "1  43.6134014354,1.44269511567                  LES CHALETS\n",
       "2  43.6191621779,1.43195460628                      MINIMES\n",
       "3  43.5791097556,1.45915760009         SAUZELONG - RANGUEIL\n",
       "4   43.579089711,1.41516717099                    FAOURETTE"
      ]
     },
     "execution_count": 2,
     "metadata": {},
     "output_type": "execute_result"
    }
   ],
   "source": [
    "df = pd.read_csv(\"https://data.toulouse-metropole.fr/explore/dataset/recensement-population-2016-grands-quartiers-familles/download/?format=csv&timezone=Europe/Berlin&lang=fr&use_labels_for_header=true&csv_separator=%3B\",sep=';')\n",
    "df.drop(labels=[\"Geo Shape\",\"GRD_QUART\"],axis=1,inplace=True)\n",
    "cols = range(2,66)\n",
    "df.drop(df.columns[cols],axis=1,inplace=True)\n",
    "\n",
    "df.head()"
   ]
  },
  {
   "cell_type": "markdown",
   "metadata": {},
   "source": [
    "I will rename the columns and split the coordinates to get a usable dataframe in the following lines of code."
   ]
  },
  {
   "cell_type": "code",
   "execution_count": 3,
   "metadata": {},
   "outputs": [
    {
     "data": {
      "text/html": [
       "<div>\n",
       "<style scoped>\n",
       "    .dataframe tbody tr th:only-of-type {\n",
       "        vertical-align: middle;\n",
       "    }\n",
       "\n",
       "    .dataframe tbody tr th {\n",
       "        vertical-align: top;\n",
       "    }\n",
       "\n",
       "    .dataframe thead th {\n",
       "        text-align: right;\n",
       "    }\n",
       "</style>\n",
       "<table border=\"1\" class=\"dataframe\">\n",
       "  <thead>\n",
       "    <tr style=\"text-align: right;\">\n",
       "      <th></th>\n",
       "      <th>Coordinates</th>\n",
       "      <th>Neighborhood</th>\n",
       "    </tr>\n",
       "  </thead>\n",
       "  <tbody>\n",
       "    <tr>\n",
       "      <th>0</th>\n",
       "      <td>43.607587822,1.43979368004</td>\n",
       "      <td>ARNAUD BERNARD</td>\n",
       "    </tr>\n",
       "    <tr>\n",
       "      <th>1</th>\n",
       "      <td>43.6134014354,1.44269511567</td>\n",
       "      <td>LES CHALETS</td>\n",
       "    </tr>\n",
       "    <tr>\n",
       "      <th>2</th>\n",
       "      <td>43.6191621779,1.43195460628</td>\n",
       "      <td>MINIMES</td>\n",
       "    </tr>\n",
       "    <tr>\n",
       "      <th>3</th>\n",
       "      <td>43.5791097556,1.45915760009</td>\n",
       "      <td>SAUZELONG - RANGUEIL</td>\n",
       "    </tr>\n",
       "    <tr>\n",
       "      <th>4</th>\n",
       "      <td>43.579089711,1.41516717099</td>\n",
       "      <td>FAOURETTE</td>\n",
       "    </tr>\n",
       "  </tbody>\n",
       "</table>\n",
       "</div>"
      ],
      "text/plain": [
       "                   Coordinates          Neighborhood\n",
       "0   43.607587822,1.43979368004        ARNAUD BERNARD\n",
       "1  43.6134014354,1.44269511567           LES CHALETS\n",
       "2  43.6191621779,1.43195460628               MINIMES\n",
       "3  43.5791097556,1.45915760009  SAUZELONG - RANGUEIL\n",
       "4   43.579089711,1.41516717099             FAOURETTE"
      ]
     },
     "execution_count": 3,
     "metadata": {},
     "output_type": "execute_result"
    }
   ],
   "source": [
    "df.rename(columns={\"Geo Point\":\"Coordinates\",\"Libellé des grands quartiers\":\"Neighborhood\"},inplace=True)\n",
    "df.head()"
   ]
  },
  {
   "cell_type": "code",
   "execution_count": 4,
   "metadata": {},
   "outputs": [
    {
     "data": {
      "text/plain": [
       "Coordinates     object\n",
       "Neighborhood    object\n",
       "dtype: object"
      ]
     },
     "execution_count": 4,
     "metadata": {},
     "output_type": "execute_result"
    }
   ],
   "source": [
    "df.dtypes"
   ]
  },
  {
   "cell_type": "code",
   "execution_count": 5,
   "metadata": {},
   "outputs": [
    {
     "data": {
      "text/html": [
       "<div>\n",
       "<style scoped>\n",
       "    .dataframe tbody tr th:only-of-type {\n",
       "        vertical-align: middle;\n",
       "    }\n",
       "\n",
       "    .dataframe tbody tr th {\n",
       "        vertical-align: top;\n",
       "    }\n",
       "\n",
       "    .dataframe thead th {\n",
       "        text-align: right;\n",
       "    }\n",
       "</style>\n",
       "<table border=\"1\" class=\"dataframe\">\n",
       "  <thead>\n",
       "    <tr style=\"text-align: right;\">\n",
       "      <th></th>\n",
       "      <th>Neighborhood</th>\n",
       "      <th>Latitude</th>\n",
       "      <th>Longitude</th>\n",
       "    </tr>\n",
       "  </thead>\n",
       "  <tbody>\n",
       "    <tr>\n",
       "      <th>0</th>\n",
       "      <td>ARNAUD BERNARD</td>\n",
       "      <td>43.607588</td>\n",
       "      <td>1.439794</td>\n",
       "    </tr>\n",
       "    <tr>\n",
       "      <th>1</th>\n",
       "      <td>LES CHALETS</td>\n",
       "      <td>43.613401</td>\n",
       "      <td>1.442695</td>\n",
       "    </tr>\n",
       "    <tr>\n",
       "      <th>2</th>\n",
       "      <td>MINIMES</td>\n",
       "      <td>43.619162</td>\n",
       "      <td>1.431955</td>\n",
       "    </tr>\n",
       "    <tr>\n",
       "      <th>3</th>\n",
       "      <td>SAUZELONG - RANGUEIL</td>\n",
       "      <td>43.579110</td>\n",
       "      <td>1.459158</td>\n",
       "    </tr>\n",
       "    <tr>\n",
       "      <th>4</th>\n",
       "      <td>FAOURETTE</td>\n",
       "      <td>43.579090</td>\n",
       "      <td>1.415167</td>\n",
       "    </tr>\n",
       "  </tbody>\n",
       "</table>\n",
       "</div>"
      ],
      "text/plain": [
       "           Neighborhood   Latitude  Longitude\n",
       "0        ARNAUD BERNARD  43.607588   1.439794\n",
       "1           LES CHALETS  43.613401   1.442695\n",
       "2               MINIMES  43.619162   1.431955\n",
       "3  SAUZELONG - RANGUEIL  43.579110   1.459158\n",
       "4             FAOURETTE  43.579090   1.415167"
      ]
     },
     "execution_count": 5,
     "metadata": {},
     "output_type": "execute_result"
    }
   ],
   "source": [
    "df_coords = df[\"Coordinates\"].str.split(\",\",expand=True)\n",
    "df.drop(labels=\"Coordinates\",axis=1,inplace=True)\n",
    "df[\"Latitude\"] = df_coords[0].astype(\"float64\")\n",
    "df[\"Longitude\"] = df_coords[1].astype(\"float64\")\n",
    "df.head()"
   ]
  },
  {
   "cell_type": "markdown",
   "metadata": {},
   "source": [
    "## 3. Methodology"
   ]
  },
  {
   "cell_type": "markdown",
   "metadata": {},
   "source": [
    "Now, I have the data for neighborhoods/quartiers in Toulouse and their coordinates. I will create map to initially visualize the locations."
   ]
  },
  {
   "cell_type": "code",
   "execution_count": 6,
   "metadata": {},
   "outputs": [],
   "source": [
    "import folium\n",
    "import requests\n",
    "import json\n",
    "from pandas.io.json import json_normalize"
   ]
  },
  {
   "cell_type": "code",
   "execution_count": 7,
   "metadata": {},
   "outputs": [],
   "source": [
    "from geopy.geocoders import Nominatim\n",
    "\n",
    "address = 'Toulouse, France'\n",
    "\n",
    "geolocator = Nominatim(user_agent=\"toul_explorer\")\n",
    "location = geolocator.geocode(address)\n",
    "latitude = location.latitude\n",
    "longitude = location.longitude"
   ]
  },
  {
   "cell_type": "code",
   "execution_count": 8,
   "metadata": {},
   "outputs": [
    {
     "data": {
      "text/html": [
       "<div style=\"width:100%;\"><div style=\"position:relative;width:100%;height:0;padding-bottom:60%;\"><span style=\"color:#565656\">Make this Notebook Trusted to load map: File -> Trust Notebook</span><iframe src=\"about:blank\" style=\"position:absolute;width:100%;height:100%;left:0;top:0;border:none !important;\" data-html=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 onload=\"this.contentDocument.open();this.contentDocument.write(atob(this.getAttribute('data-html')));this.contentDocument.close();\" allowfullscreen webkitallowfullscreen mozallowfullscreen></iframe></div></div>"
      ],
      "text/plain": [
       "<folium.folium.Map at 0x1ff15520988>"
      ]
     },
     "execution_count": 8,
     "metadata": {},
     "output_type": "execute_result"
    }
   ],
   "source": [
    "map_toulouse = folium.Map(location=[latitude, longitude], zoom_start=12)\n",
    "\n",
    "for lat, lng, neighborhood in zip(df['Latitude'], df['Longitude'], df['Neighborhood']):\n",
    "    label = '{}'.format(neighborhood)\n",
    "    label = folium.Popup(label, parse_html=True)\n",
    "    folium.CircleMarker(\n",
    "        [lat, lng],\n",
    "        radius=5,\n",
    "        popup=label,\n",
    "        color='blue',\n",
    "        fill=True,\n",
    "        fill_color='#3186cc',\n",
    "        fill_opacity=0.7,\n",
    "        parse_html=False).add_to(map_toulouse)  \n",
    "    \n",
    "map_toulouse"
   ]
  },
  {
   "cell_type": "markdown",
   "metadata": {},
   "source": [
    "The next step in data collecting is using the Foursquare API. I will use my personal credentials."
   ]
  },
  {
   "cell_type": "code",
   "execution_count": 9,
   "metadata": {},
   "outputs": [],
   "source": [
    "CLIENT_ID = *credentials hidden*\n",
    "CLIENT_SECRET = *credentials hidden*\n",
    "VERSION = '20200905'"
   ]
  },
  {
   "cell_type": "markdown",
   "metadata": {},
   "source": [
    "### 3.1 Principle of Analysis"
   ]
  },
  {
   "cell_type": "markdown",
   "metadata": {},
   "source": [
    "The main principle is to analyse retrieved information on venues already present and running in the neighborhoods of Toulouse to get important markers about candidate locations. The factors that will help in my project are the type of venues, their number in a single locality, their popularity and their potential relationship with a Games and Recreation venue to open near them. \n",
    "\n",
    "I will use the Foursquare data in 3 ways:   \n",
    "1. Retrieve the venue categories with the most number for each neighborhood\n",
    "2. Retrieve the most popular venues and venue categories of each location\n",
    "3. Retrieve the locations with most \"key\" venue categories\n",
    "\n",
    "In the first 2 cases, I will use K-means clustering to cluster the locations and these results can be visualized to obtain optimum candidate locations. In the third analysis, useful information is obtained directly without the need for classification."
   ]
  },
  {
   "cell_type": "markdown",
   "metadata": {},
   "source": [
    "### 3.2 Analysis 1"
   ]
  },
  {
   "cell_type": "markdown",
   "metadata": {},
   "source": [
    "The first method is to obtain data on the most common venues or the most common venue category in a locality. The most common venues in a neighborhood gives an idea of what kind of businesses have greater chance of success there, as well as what kind of places the residents are most acquainted with.     \n",
    "The Foursquare API call for 'explore' returns venue recommendations for a location, and also provides categories for each venue. I will use this information to classify the neighborhoods into 5 clusters."
   ]
  },
  {
   "cell_type": "markdown",
   "metadata": {},
   "source": [
    "Below is the function defined to perform Foursquare API call with a custom url."
   ]
  },
  {
   "cell_type": "code",
   "execution_count": 10,
   "metadata": {},
   "outputs": [],
   "source": [
    "def getVenues(names, latitudes, longitudes,url,limit,radius):\n",
    "    \n",
    "    venues_list=[]\n",
    "    for name, lat, lng in zip(names, latitudes, longitudes):\n",
    "        API_url = url.format(CLIENT_ID,CLIENT_SECRET,VERSION, \n",
    "            lat,lng,radius,limit)           \n",
    "        results = requests.get(API_url).json()[\"response\"]['groups'][0]['items']\n",
    "        \n",
    "        venues_list.append([(\n",
    "            name,lat,lng, \n",
    "            v['venue']['name'], \n",
    "            v['venue']['location']['lat'], \n",
    "            v['venue']['location']['lng'],  \n",
    "            v['venue']['categories'][0]['name']) for v in results])\n",
    "\n",
    "    df_venues = pd.DataFrame([item for venue_list in venues_list for item in venue_list])\n",
    "    df_venues.columns = ['Neighborhood','Neighborhood Latitude','Neighborhood Longitude', \n",
    "                  'Venue','Venue Latitude','Venue Longitude','Venue Category']\n",
    "    \n",
    "    return(df_venues)"
   ]
  },
  {
   "cell_type": "code",
   "execution_count": 12,
   "metadata": {},
   "outputs": [],
   "source": [
    "limit = 100\n",
    "radius = 300\n",
    "common_venues_url = 'https://api.foursquare.com/v2/venues/explore?&client_id={}&client_secret={}&v={}&ll={},{}&radius={}&limit={}'\n",
    "\n",
    "common_venues_list = getVenues(df['Neighborhood'],df['Latitude'],df['Longitude'],common_venues_url,limit,radius)"
   ]
  },
  {
   "cell_type": "code",
   "execution_count": 13,
   "metadata": {},
   "outputs": [
    {
     "data": {
      "text/html": [
       "<div>\n",
       "<style scoped>\n",
       "    .dataframe tbody tr th:only-of-type {\n",
       "        vertical-align: middle;\n",
       "    }\n",
       "\n",
       "    .dataframe tbody tr th {\n",
       "        vertical-align: top;\n",
       "    }\n",
       "\n",
       "    .dataframe thead th {\n",
       "        text-align: right;\n",
       "    }\n",
       "</style>\n",
       "<table border=\"1\" class=\"dataframe\">\n",
       "  <thead>\n",
       "    <tr style=\"text-align: right;\">\n",
       "      <th></th>\n",
       "      <th>Neighborhood</th>\n",
       "      <th>Neighborhood Latitude</th>\n",
       "      <th>Neighborhood Longitude</th>\n",
       "      <th>Venue</th>\n",
       "      <th>Venue Latitude</th>\n",
       "      <th>Venue Longitude</th>\n",
       "      <th>Venue Category</th>\n",
       "    </tr>\n",
       "  </thead>\n",
       "  <tbody>\n",
       "    <tr>\n",
       "      <th>0</th>\n",
       "      <td>ARNAUD BERNARD</td>\n",
       "      <td>43.607588</td>\n",
       "      <td>1.439794</td>\n",
       "      <td>Breughel l'Ancien</td>\n",
       "      <td>43.609363</td>\n",
       "      <td>1.439101</td>\n",
       "      <td>Pub</td>\n",
       "    </tr>\n",
       "    <tr>\n",
       "      <th>1</th>\n",
       "      <td>ARNAUD BERNARD</td>\n",
       "      <td>43.607588</td>\n",
       "      <td>1.439794</td>\n",
       "      <td>Creativ'Yogurt</td>\n",
       "      <td>43.605979</td>\n",
       "      <td>1.441231</td>\n",
       "      <td>Snack Place</td>\n",
       "    </tr>\n",
       "    <tr>\n",
       "      <th>2</th>\n",
       "      <td>ARNAUD BERNARD</td>\n",
       "      <td>43.607588</td>\n",
       "      <td>1.439794</td>\n",
       "      <td>George &amp; the Dragon</td>\n",
       "      <td>43.607416</td>\n",
       "      <td>1.439559</td>\n",
       "      <td>Pub</td>\n",
       "    </tr>\n",
       "    <tr>\n",
       "      <th>3</th>\n",
       "      <td>ARNAUD BERNARD</td>\n",
       "      <td>43.607588</td>\n",
       "      <td>1.439794</td>\n",
       "      <td>Place Saint-Sernin</td>\n",
       "      <td>43.608278</td>\n",
       "      <td>1.441076</td>\n",
       "      <td>Plaza</td>\n",
       "    </tr>\n",
       "    <tr>\n",
       "      <th>4</th>\n",
       "      <td>ARNAUD BERNARD</td>\n",
       "      <td>43.607588</td>\n",
       "      <td>1.439794</td>\n",
       "      <td>Midi Minuit</td>\n",
       "      <td>43.607486</td>\n",
       "      <td>1.439689</td>\n",
       "      <td>French Restaurant</td>\n",
       "    </tr>\n",
       "  </tbody>\n",
       "</table>\n",
       "</div>"
      ],
      "text/plain": [
       "     Neighborhood  Neighborhood Latitude  Neighborhood Longitude  \\\n",
       "0  ARNAUD BERNARD              43.607588                1.439794   \n",
       "1  ARNAUD BERNARD              43.607588                1.439794   \n",
       "2  ARNAUD BERNARD              43.607588                1.439794   \n",
       "3  ARNAUD BERNARD              43.607588                1.439794   \n",
       "4  ARNAUD BERNARD              43.607588                1.439794   \n",
       "\n",
       "                 Venue  Venue Latitude  Venue Longitude     Venue Category  \n",
       "0    Breughel l'Ancien       43.609363         1.439101                Pub  \n",
       "1       Creativ'Yogurt       43.605979         1.441231        Snack Place  \n",
       "2  George & the Dragon       43.607416         1.439559                Pub  \n",
       "3   Place Saint-Sernin       43.608278         1.441076              Plaza  \n",
       "4          Midi Minuit       43.607486         1.439689  French Restaurant  "
      ]
     },
     "execution_count": 13,
     "metadata": {},
     "output_type": "execute_result"
    }
   ],
   "source": [
    "common_venues_list.head()"
   ]
  },
  {
   "cell_type": "markdown",
   "metadata": {},
   "source": [
    "I will also define a function to perform One Hot encoding of the dataframe containing the API call results. This is necessary to perform K Means clustering on the dataframes."
   ]
  },
  {
   "cell_type": "code",
   "execution_count": 14,
   "metadata": {},
   "outputs": [],
   "source": [
    "def onehot(df_venues):\n",
    "    onehot = pd.get_dummies(df_venues[['Venue Category']], prefix=\"\", prefix_sep=\"\")\n",
    "    onehot['Neighborhood'] = df_venues['Neighborhood'] \n",
    "\n",
    "    fixed_columns = [onehot.columns[-1]] + list(onehot.columns[:-1])\n",
    "    onehot = onehot[fixed_columns]\n",
    "    df_onehot_grouped = onehot.groupby('Neighborhood').mean().reset_index()\n",
    "    \n",
    "    return(df_onehot_grouped)"
   ]
  },
  {
   "cell_type": "code",
   "execution_count": 15,
   "metadata": {},
   "outputs": [],
   "source": [
    "def return_most_common_venues(row, num_top_venues):\n",
    "    row_categories = row.iloc[1:]\n",
    "    row_categories_sorted = row_categories.sort_values(ascending=False)\n",
    "    \n",
    "    return row_categories_sorted.index.values[0:num_top_venues]"
   ]
  },
  {
   "cell_type": "code",
   "execution_count": 17,
   "metadata": {},
   "outputs": [
    {
     "data": {
      "text/html": [
       "<div>\n",
       "<style scoped>\n",
       "    .dataframe tbody tr th:only-of-type {\n",
       "        vertical-align: middle;\n",
       "    }\n",
       "\n",
       "    .dataframe tbody tr th {\n",
       "        vertical-align: top;\n",
       "    }\n",
       "\n",
       "    .dataframe thead th {\n",
       "        text-align: right;\n",
       "    }\n",
       "</style>\n",
       "<table border=\"1\" class=\"dataframe\">\n",
       "  <thead>\n",
       "    <tr style=\"text-align: right;\">\n",
       "      <th></th>\n",
       "      <th>Neighborhood</th>\n",
       "      <th>1st Most Common Venue</th>\n",
       "      <th>2nd Most Common Venue</th>\n",
       "      <th>3rd Most Common Venue</th>\n",
       "      <th>4th Most Common Venue</th>\n",
       "      <th>5th Most Common Venue</th>\n",
       "    </tr>\n",
       "  </thead>\n",
       "  <tbody>\n",
       "    <tr>\n",
       "      <th>0</th>\n",
       "      <td>AMIDONNIERS</td>\n",
       "      <td>Café</td>\n",
       "      <td>Dance Studio</td>\n",
       "      <td>Wine Shop</td>\n",
       "      <td>Farmers Market</td>\n",
       "      <td>Comedy Club</td>\n",
       "    </tr>\n",
       "    <tr>\n",
       "      <th>1</th>\n",
       "      <td>ARENES</td>\n",
       "      <td>Pizza Place</td>\n",
       "      <td>Metro Station</td>\n",
       "      <td>Tram Station</td>\n",
       "      <td>College Cafeteria</td>\n",
       "      <td>Comedy Club</td>\n",
       "    </tr>\n",
       "    <tr>\n",
       "      <th>2</th>\n",
       "      <td>ARNAUD BERNARD</td>\n",
       "      <td>French Restaurant</td>\n",
       "      <td>Café</td>\n",
       "      <td>Pub</td>\n",
       "      <td>Hostel</td>\n",
       "      <td>Snack Place</td>\n",
       "    </tr>\n",
       "    <tr>\n",
       "      <th>3</th>\n",
       "      <td>BARRIERE-DE-PARIS</td>\n",
       "      <td>Pizza Place</td>\n",
       "      <td>Theme Park</td>\n",
       "      <td>Music Venue</td>\n",
       "      <td>Electronics Store</td>\n",
       "      <td>College Cafeteria</td>\n",
       "    </tr>\n",
       "    <tr>\n",
       "      <th>4</th>\n",
       "      <td>BASSO-CAMBO</td>\n",
       "      <td>Park</td>\n",
       "      <td>Restaurant</td>\n",
       "      <td>French Restaurant</td>\n",
       "      <td>Wine Shop</td>\n",
       "      <td>Electronics Store</td>\n",
       "    </tr>\n",
       "  </tbody>\n",
       "</table>\n",
       "</div>"
      ],
      "text/plain": [
       "        Neighborhood 1st Most Common Venue 2nd Most Common Venue  \\\n",
       "0        AMIDONNIERS                  Café          Dance Studio   \n",
       "1             ARENES           Pizza Place         Metro Station   \n",
       "2     ARNAUD BERNARD     French Restaurant                  Café   \n",
       "3  BARRIERE-DE-PARIS           Pizza Place            Theme Park   \n",
       "4        BASSO-CAMBO                  Park            Restaurant   \n",
       "\n",
       "  3rd Most Common Venue 4th Most Common Venue 5th Most Common Venue  \n",
       "0             Wine Shop        Farmers Market           Comedy Club  \n",
       "1          Tram Station     College Cafeteria           Comedy Club  \n",
       "2                   Pub                Hostel           Snack Place  \n",
       "3           Music Venue     Electronics Store     College Cafeteria  \n",
       "4     French Restaurant             Wine Shop     Electronics Store  "
      ]
     },
     "execution_count": 17,
     "metadata": {},
     "output_type": "execute_result"
    }
   ],
   "source": [
    "common_venues_onehot = onehot(common_venues_list)\n",
    "\n",
    "num_top_venues = 5\n",
    "indicators = ['st', 'nd', 'rd']\n",
    "\n",
    "columns = ['Neighborhood']\n",
    "for ind in np.arange(num_top_venues):\n",
    "    try:\n",
    "        columns.append('{}{} Most Common Venue'.format(ind+1, indicators[ind]))\n",
    "    except:\n",
    "        columns.append('{}th Most Common Venue'.format(ind+1))\n",
    "\n",
    "common_venues_sorted = pd.DataFrame(columns=columns)\n",
    "common_venues_sorted['Neighborhood'] = common_venues_onehot['Neighborhood']\n",
    "\n",
    "for ind in np.arange(common_venues_onehot.shape[0]):\n",
    "    common_venues_sorted.iloc[ind, 1:] = return_most_common_venues(common_venues_onehot.iloc[ind, :], num_top_venues)\n",
    "\n",
    "common_venues_sorted.head()"
   ]
  },
  {
   "cell_type": "markdown",
   "metadata": {},
   "source": [
    "Kmeans clustering is the method I am using to classify the neighborhoods. A function is defined below to perform the clustering. It can be called separately in each analysis."
   ]
  },
  {
   "cell_type": "code",
   "execution_count": 18,
   "metadata": {},
   "outputs": [],
   "source": [
    "from sklearn.cluster import KMeans"
   ]
  },
  {
   "cell_type": "code",
   "execution_count": 19,
   "metadata": {},
   "outputs": [],
   "source": [
    "def Kmeans_cluster(df_onehot,kclusters):\n",
    "    kclusters = 5\n",
    "    df_temp = df_onehot.drop('Neighborhood', 1)\n",
    "    kmeans = KMeans(n_clusters=kclusters, random_state=0).fit(df_temp)\n",
    "    return(kmeans)"
   ]
  },
  {
   "cell_type": "code",
   "execution_count": 20,
   "metadata": {},
   "outputs": [
    {
     "data": {
      "text/html": [
       "<div>\n",
       "<style scoped>\n",
       "    .dataframe tbody tr th:only-of-type {\n",
       "        vertical-align: middle;\n",
       "    }\n",
       "\n",
       "    .dataframe tbody tr th {\n",
       "        vertical-align: top;\n",
       "    }\n",
       "\n",
       "    .dataframe thead th {\n",
       "        text-align: right;\n",
       "    }\n",
       "</style>\n",
       "<table border=\"1\" class=\"dataframe\">\n",
       "  <thead>\n",
       "    <tr style=\"text-align: right;\">\n",
       "      <th></th>\n",
       "      <th>Neighborhood</th>\n",
       "      <th>Latitude</th>\n",
       "      <th>Longitude</th>\n",
       "      <th>Cluster Labels</th>\n",
       "      <th>1st Most Common Venue</th>\n",
       "      <th>2nd Most Common Venue</th>\n",
       "      <th>3rd Most Common Venue</th>\n",
       "      <th>4th Most Common Venue</th>\n",
       "      <th>5th Most Common Venue</th>\n",
       "    </tr>\n",
       "  </thead>\n",
       "  <tbody>\n",
       "    <tr>\n",
       "      <th>0</th>\n",
       "      <td>ARNAUD BERNARD</td>\n",
       "      <td>43.607588</td>\n",
       "      <td>1.439794</td>\n",
       "      <td>0</td>\n",
       "      <td>French Restaurant</td>\n",
       "      <td>Café</td>\n",
       "      <td>Pub</td>\n",
       "      <td>Hostel</td>\n",
       "      <td>Snack Place</td>\n",
       "    </tr>\n",
       "    <tr>\n",
       "      <th>1</th>\n",
       "      <td>LES CHALETS</td>\n",
       "      <td>43.613401</td>\n",
       "      <td>1.442695</td>\n",
       "      <td>0</td>\n",
       "      <td>Italian Restaurant</td>\n",
       "      <td>Gym</td>\n",
       "      <td>Hotel</td>\n",
       "      <td>Comedy Club</td>\n",
       "      <td>Sporting Goods Shop</td>\n",
       "    </tr>\n",
       "    <tr>\n",
       "      <th>2</th>\n",
       "      <td>MINIMES</td>\n",
       "      <td>43.619162</td>\n",
       "      <td>1.431955</td>\n",
       "      <td>0</td>\n",
       "      <td>Argentinian Restaurant</td>\n",
       "      <td>Pedestrian Plaza</td>\n",
       "      <td>Wine Shop</td>\n",
       "      <td>Farmers Market</td>\n",
       "      <td>Comedy Club</td>\n",
       "    </tr>\n",
       "    <tr>\n",
       "      <th>3</th>\n",
       "      <td>SAUZELONG - RANGUEIL</td>\n",
       "      <td>43.579110</td>\n",
       "      <td>1.459158</td>\n",
       "      <td>3</td>\n",
       "      <td>Metro Station</td>\n",
       "      <td>Brewery</td>\n",
       "      <td>Bakery</td>\n",
       "      <td>Tapas Restaurant</td>\n",
       "      <td>Wine Shop</td>\n",
       "    </tr>\n",
       "    <tr>\n",
       "      <th>4</th>\n",
       "      <td>FAOURETTE</td>\n",
       "      <td>43.579090</td>\n",
       "      <td>1.415167</td>\n",
       "      <td>3</td>\n",
       "      <td>IT Services</td>\n",
       "      <td>Bakery</td>\n",
       "      <td>Metro Station</td>\n",
       "      <td>Wine Shop</td>\n",
       "      <td>Fast Food Restaurant</td>\n",
       "    </tr>\n",
       "  </tbody>\n",
       "</table>\n",
       "</div>"
      ],
      "text/plain": [
       "           Neighborhood   Latitude  Longitude  Cluster Labels  \\\n",
       "0        ARNAUD BERNARD  43.607588   1.439794               0   \n",
       "1           LES CHALETS  43.613401   1.442695               0   \n",
       "2               MINIMES  43.619162   1.431955               0   \n",
       "3  SAUZELONG - RANGUEIL  43.579110   1.459158               3   \n",
       "4             FAOURETTE  43.579090   1.415167               3   \n",
       "\n",
       "    1st Most Common Venue 2nd Most Common Venue 3rd Most Common Venue  \\\n",
       "0       French Restaurant                  Café                   Pub   \n",
       "1      Italian Restaurant                   Gym                 Hotel   \n",
       "2  Argentinian Restaurant      Pedestrian Plaza             Wine Shop   \n",
       "3           Metro Station               Brewery                Bakery   \n",
       "4             IT Services                Bakery         Metro Station   \n",
       "\n",
       "  4th Most Common Venue 5th Most Common Venue  \n",
       "0                Hostel           Snack Place  \n",
       "1           Comedy Club   Sporting Goods Shop  \n",
       "2        Farmers Market           Comedy Club  \n",
       "3      Tapas Restaurant             Wine Shop  \n",
       "4             Wine Shop  Fast Food Restaurant  "
      ]
     },
     "execution_count": 20,
     "metadata": {},
     "output_type": "execute_result"
    }
   ],
   "source": [
    "kclusters = 5\n",
    "kmeans = Kmeans_cluster(common_venues_onehot,kclusters)\n",
    "common_venues_sorted.insert(0, 'Cluster Labels', kmeans.labels_)\n",
    "\n",
    "common_venues = df\n",
    "common_venues = common_venues.join(common_venues_sorted.set_index('Neighborhood'), on='Neighborhood')\n",
    "\n",
    "common_venues = common_venues.dropna()\n",
    "common_venues[\"Cluster Labels\"] = common_venues[\"Cluster Labels\"].astype('int32')\n",
    "common_venues.head()"
   ]
  },
  {
   "cell_type": "markdown",
   "metadata": {},
   "source": [
    "The next step is to visualize the clusters created. I will use the most common venues of each cluster as this will give a better idea of the characteristics of each cluster."
   ]
  },
  {
   "cell_type": "code",
   "execution_count": 21,
   "metadata": {},
   "outputs": [],
   "source": [
    "import matplotlib.cm as cm\n",
    "import matplotlib.colors as colors\n",
    "import matplotlib.pyplot as plt"
   ]
  },
  {
   "cell_type": "code",
   "execution_count": 22,
   "metadata": {},
   "outputs": [],
   "source": [
    "cluster_c ={}\n",
    "for i in range(0,kclusters):\n",
    "    cluster_c[i] = common_venues.loc[common_venues[\"Cluster Labels\"]==i,common_venues.columns[[0]+[4]]]    "
   ]
  },
  {
   "cell_type": "code",
   "execution_count": 23,
   "metadata": {},
   "outputs": [],
   "source": [
    "def df_for_plot_c(cluster_df):\n",
    "    venue_count = pd.get_dummies(cluster_df[[\"1st Most Common Venue\"]],prefix=\"\",prefix_sep=\"\")\n",
    "    venue_count = venue_count.sum().sort_values(ascending=False).head()\n",
    "    \n",
    "    return(venue_count)   "
   ]
  },
  {
   "cell_type": "code",
   "execution_count": 24,
   "metadata": {},
   "outputs": [
    {
     "data": {
      "image/png": "[encoded data removed]",
      "text/plain": [
       "<Figure size 432x288 with 1 Axes>"
      ]
     },
     "metadata": {
      "needs_background": "light"
     },
     "output_type": "display_data"
    },
    {
     "data": {
      "image/png": "[encoded data removed]",
      "text/plain": [
       "<Figure size 432x288 with 1 Axes>"
      ]
     },
     "metadata": {
      "needs_background": "light"
     },
     "output_type": "display_data"
    },
    {
     "data": {
      "image/png": "[encoded data removed]",
      "text/plain": [
       "<Figure size 432x288 with 1 Axes>"
      ]
     },
     "metadata": {
      "needs_background": "light"
     },
     "output_type": "display_data"
    },
    {
     "data": {
      "image/png": "[encoded data removed]",
      "text/plain": [
       "<Figure size 432x288 with 1 Axes>"
      ]
     },
     "metadata": {
      "needs_background": "light"
     },
     "output_type": "display_data"
    },
    {
     "data": {
      "image/png": "[encoded data removed]",
      "text/plain": [
       "<Figure size 432x288 with 1 Axes>"
      ]
     },
     "metadata": {
      "needs_background": "light"
     },
     "output_type": "display_data"
    }
   ],
   "source": [
    "fig = plt.figure()\n",
    "plot_df = {}\n",
    "ax = fig.add_axes()\n",
    "\n",
    "for i in range(0,kclusters):\n",
    "    plot_df[i] = df_for_plot_c(cluster_c[i])\n",
    "    plot_df[i].plot(kind=\"bar\",ax=ax)\n",
    "    plt.title(\"Cluster {} Most Common Venues\".format(i))\n",
    "    plt.xticks(rotation=15,horizontalalignment=\"center\")\n",
    "    plt.show()"
   ]
  },
  {
   "cell_type": "markdown",
   "metadata": {},
   "source": [
    "From the above bar charts, the following characteristics can be inferred:   \n",
    "- Cluster 0: The most common venues are restaurants and entertainment places. So these neighborhoods are open to night life and public entertainment, which will be a nice candidate location for my concerned business.\n",
    "- Cluster 1: The most common venue is Shopping mall. Shopping is mostly a day activity and also associated with a more calm and peaceful environment. As such, this cluster wont be a perfect fit.\n",
    "- Cluster 2: The most common venue is Park, followed by Pizza place, but with a big difference. The features look similar to Cluster 1, with parks being more frequented by kids and families for a peaceful get together time. So this cluster wont be a fit too.\n",
    "- Cluster 3: Many metro stations are part of this cluster, among other stores. It has a good feature of easy accessibility, which is a positive. The presence of pools shows that it is partly an entertainment cluster with a few pizza places to boast of. This cluster can also be a candidate.\n",
    "- Cluster 4: Having French restaurants and Tram stations are both positives in terms of accessibility and preference of location. This cluster can also be a candidate.    \n",
    "\n",
    "According to these inferences, I will assign weightages to each cluster, so that points can be allotted to each neighborhood based upon their performance in this analysis. This will be detailed in the later section."
   ]
  },
  {
   "cell_type": "markdown",
   "metadata": {},
   "source": [
    "### 3.3 Analysis 2"
   ]
  },
  {
   "cell_type": "markdown",
   "metadata": {},
   "source": [
    "The second method is to use Foursquare to retrieve the most popular venues at a location. The Foursquare API call of 'explore' can be used with sort by popularity option for this purpose. I am limiting the data to the 3 most popular venues for each neighborhood."
   ]
  },
  {
   "cell_type": "code",
   "execution_count": 26,
   "metadata": {},
   "outputs": [],
   "source": [
    "radius_p = 300\n",
    "limit_p = 3\n",
    "popular_venues_url = \"https://api.foursquare.com/v2/venues/explore?client_id={}&client_secret={}&v={}&ll={},{}&radius={}&limit={}&sortbyPopularity=1\"\n",
    "\n",
    "popular_venues_list = getVenues(df['Neighborhood'],df['Latitude'],df['Longitude'],popular_venues_url,limit_p,radius_p)"
   ]
  },
  {
   "cell_type": "code",
   "execution_count": 27,
   "metadata": {},
   "outputs": [
    {
     "data": {
      "text/html": [
       "<div>\n",
       "<style scoped>\n",
       "    .dataframe tbody tr th:only-of-type {\n",
       "        vertical-align: middle;\n",
       "    }\n",
       "\n",
       "    .dataframe tbody tr th {\n",
       "        vertical-align: top;\n",
       "    }\n",
       "\n",
       "    .dataframe thead th {\n",
       "        text-align: right;\n",
       "    }\n",
       "</style>\n",
       "<table border=\"1\" class=\"dataframe\">\n",
       "  <thead>\n",
       "    <tr style=\"text-align: right;\">\n",
       "      <th></th>\n",
       "      <th>Neighborhood</th>\n",
       "      <th>Neighborhood Latitude</th>\n",
       "      <th>Neighborhood Longitude</th>\n",
       "      <th>Venue</th>\n",
       "      <th>Venue Latitude</th>\n",
       "      <th>Venue Longitude</th>\n",
       "      <th>Venue Category</th>\n",
       "    </tr>\n",
       "  </thead>\n",
       "  <tbody>\n",
       "    <tr>\n",
       "      <th>0</th>\n",
       "      <td>ARNAUD BERNARD</td>\n",
       "      <td>43.607588</td>\n",
       "      <td>1.439794</td>\n",
       "      <td>Breughel l'Ancien</td>\n",
       "      <td>43.609363</td>\n",
       "      <td>1.439101</td>\n",
       "      <td>Pub</td>\n",
       "    </tr>\n",
       "    <tr>\n",
       "      <th>1</th>\n",
       "      <td>ARNAUD BERNARD</td>\n",
       "      <td>43.607588</td>\n",
       "      <td>1.439794</td>\n",
       "      <td>Creativ'Yogurt</td>\n",
       "      <td>43.605979</td>\n",
       "      <td>1.441231</td>\n",
       "      <td>Snack Place</td>\n",
       "    </tr>\n",
       "    <tr>\n",
       "      <th>2</th>\n",
       "      <td>ARNAUD BERNARD</td>\n",
       "      <td>43.607588</td>\n",
       "      <td>1.439794</td>\n",
       "      <td>George &amp; the Dragon</td>\n",
       "      <td>43.607416</td>\n",
       "      <td>1.439559</td>\n",
       "      <td>Pub</td>\n",
       "    </tr>\n",
       "    <tr>\n",
       "      <th>3</th>\n",
       "      <td>LES CHALETS</td>\n",
       "      <td>43.613401</td>\n",
       "      <td>1.442695</td>\n",
       "      <td>La Comédie de Toulouse</td>\n",
       "      <td>43.611599</td>\n",
       "      <td>1.441049</td>\n",
       "      <td>Comedy Club</td>\n",
       "    </tr>\n",
       "    <tr>\n",
       "      <th>4</th>\n",
       "      <td>LES CHALETS</td>\n",
       "      <td>43.613401</td>\n",
       "      <td>1.442695</td>\n",
       "      <td>La Pente Douce</td>\n",
       "      <td>43.611295</td>\n",
       "      <td>1.444354</td>\n",
       "      <td>Restaurant</td>\n",
       "    </tr>\n",
       "  </tbody>\n",
       "</table>\n",
       "</div>"
      ],
      "text/plain": [
       "     Neighborhood  Neighborhood Latitude  Neighborhood Longitude  \\\n",
       "0  ARNAUD BERNARD              43.607588                1.439794   \n",
       "1  ARNAUD BERNARD              43.607588                1.439794   \n",
       "2  ARNAUD BERNARD              43.607588                1.439794   \n",
       "3     LES CHALETS              43.613401                1.442695   \n",
       "4     LES CHALETS              43.613401                1.442695   \n",
       "\n",
       "                    Venue  Venue Latitude  Venue Longitude Venue Category  \n",
       "0       Breughel l'Ancien       43.609363         1.439101            Pub  \n",
       "1          Creativ'Yogurt       43.605979         1.441231    Snack Place  \n",
       "2     George & the Dragon       43.607416         1.439559            Pub  \n",
       "3  La Comédie de Toulouse       43.611599         1.441049    Comedy Club  \n",
       "4          La Pente Douce       43.611295         1.444354     Restaurant  "
      ]
     },
     "execution_count": 27,
     "metadata": {},
     "output_type": "execute_result"
    }
   ],
   "source": [
    "popular_venues_list.head()"
   ]
  },
  {
   "cell_type": "code",
   "execution_count": 28,
   "metadata": {},
   "outputs": [],
   "source": [
    "popular_venues = pd.DataFrame(columns=[\"Neighborhood\",\"1st Most Popular Venue\",\"2nd Most Popular Venue\",\"3rd Most Popular Venue\"])\n",
    "\n",
    "popular_venues[\"Neighborhood\"] = popular_venues_list[\"Neighborhood\"].unique()"
   ]
  },
  {
   "cell_type": "code",
   "execution_count": 29,
   "metadata": {},
   "outputs": [
    {
     "data": {
      "text/html": [
       "<div>\n",
       "<style scoped>\n",
       "    .dataframe tbody tr th:only-of-type {\n",
       "        vertical-align: middle;\n",
       "    }\n",
       "\n",
       "    .dataframe tbody tr th {\n",
       "        vertical-align: top;\n",
       "    }\n",
       "\n",
       "    .dataframe thead th {\n",
       "        text-align: right;\n",
       "    }\n",
       "</style>\n",
       "<table border=\"1\" class=\"dataframe\">\n",
       "  <thead>\n",
       "    <tr style=\"text-align: right;\">\n",
       "      <th></th>\n",
       "      <th>Neighborhood</th>\n",
       "      <th>1st Most Popular Venue</th>\n",
       "      <th>2nd Most Popular Venue</th>\n",
       "      <th>3rd Most Popular Venue</th>\n",
       "    </tr>\n",
       "  </thead>\n",
       "  <tbody>\n",
       "    <tr>\n",
       "      <th>0</th>\n",
       "      <td>ARNAUD BERNARD</td>\n",
       "      <td>Pub</td>\n",
       "      <td>Snack Place</td>\n",
       "      <td>Pub</td>\n",
       "    </tr>\n",
       "    <tr>\n",
       "      <th>1</th>\n",
       "      <td>LES CHALETS</td>\n",
       "      <td>Comedy Club</td>\n",
       "      <td>Restaurant</td>\n",
       "      <td>Bar</td>\n",
       "    </tr>\n",
       "    <tr>\n",
       "      <th>2</th>\n",
       "      <td>MINIMES</td>\n",
       "      <td>Argentinian Restaurant</td>\n",
       "      <td>Pedestrian Plaza</td>\n",
       "      <td>NaN</td>\n",
       "    </tr>\n",
       "    <tr>\n",
       "      <th>3</th>\n",
       "      <td>SAUZELONG - RANGUEIL</td>\n",
       "      <td>Metro Station</td>\n",
       "      <td>Bakery</td>\n",
       "      <td>Tapas Restaurant</td>\n",
       "    </tr>\n",
       "    <tr>\n",
       "      <th>4</th>\n",
       "      <td>FAOURETTE</td>\n",
       "      <td>IT Services</td>\n",
       "      <td>Bakery</td>\n",
       "      <td>Metro Station</td>\n",
       "    </tr>\n",
       "  </tbody>\n",
       "</table>\n",
       "</div>"
      ],
      "text/plain": [
       "           Neighborhood  1st Most Popular Venue 2nd Most Popular Venue  \\\n",
       "0        ARNAUD BERNARD                     Pub            Snack Place   \n",
       "1           LES CHALETS             Comedy Club             Restaurant   \n",
       "2               MINIMES  Argentinian Restaurant       Pedestrian Plaza   \n",
       "3  SAUZELONG - RANGUEIL           Metro Station                 Bakery   \n",
       "4             FAOURETTE             IT Services                 Bakery   \n",
       "\n",
       "  3rd Most Popular Venue  \n",
       "0                    Pub  \n",
       "1                    Bar  \n",
       "2                    NaN  \n",
       "3       Tapas Restaurant  \n",
       "4          Metro Station  "
      ]
     },
     "execution_count": 29,
     "metadata": {},
     "output_type": "execute_result"
    }
   ],
   "source": [
    "m=0\n",
    "n=1\n",
    "\n",
    "for i in range(0,popular_venues_list.shape[0]):\n",
    "    if n==4 or popular_venues.iloc[m][\"Neighborhood\"]!=popular_venues_list.iloc[i][\"Neighborhood\"]:\n",
    "        m=m+1\n",
    "        n=1\n",
    "    popular_venues.iloc[m][n] = popular_venues_list.iloc[i][\"Venue Category\"]\n",
    "    n=n+1 \n",
    "    \n",
    "popular_venues.head()"
   ]
  },
  {
   "cell_type": "code",
   "execution_count": 30,
   "metadata": {},
   "outputs": [
    {
     "data": {
      "text/html": [
       "<div>\n",
       "<style scoped>\n",
       "    .dataframe tbody tr th:only-of-type {\n",
       "        vertical-align: middle;\n",
       "    }\n",
       "\n",
       "    .dataframe tbody tr th {\n",
       "        vertical-align: top;\n",
       "    }\n",
       "\n",
       "    .dataframe thead th {\n",
       "        text-align: right;\n",
       "    }\n",
       "</style>\n",
       "<table border=\"1\" class=\"dataframe\">\n",
       "  <thead>\n",
       "    <tr style=\"text-align: right;\">\n",
       "      <th></th>\n",
       "      <th>Neighborhood</th>\n",
       "      <th>African Restaurant</th>\n",
       "      <th>Argentinian Restaurant</th>\n",
       "      <th>Asian Restaurant</th>\n",
       "      <th>Athletics &amp; Sports</th>\n",
       "      <th>Badminton Court</th>\n",
       "      <th>Bakery</th>\n",
       "      <th>Bank</th>\n",
       "      <th>Bar</th>\n",
       "      <th>Basketball Court</th>\n",
       "      <th>...</th>\n",
       "      <th>Supermarket</th>\n",
       "      <th>Tailor Shop</th>\n",
       "      <th>Tapas Restaurant</th>\n",
       "      <th>Tennis Stadium</th>\n",
       "      <th>Theater</th>\n",
       "      <th>Theme Park</th>\n",
       "      <th>Train Station</th>\n",
       "      <th>Tram Station</th>\n",
       "      <th>Vegetarian / Vegan Restaurant</th>\n",
       "      <th>Wine Shop</th>\n",
       "    </tr>\n",
       "  </thead>\n",
       "  <tbody>\n",
       "    <tr>\n",
       "      <th>0</th>\n",
       "      <td>AMIDONNIERS</td>\n",
       "      <td>0.0</td>\n",
       "      <td>0.0</td>\n",
       "      <td>0.0</td>\n",
       "      <td>0.0</td>\n",
       "      <td>0.0</td>\n",
       "      <td>0.0</td>\n",
       "      <td>0.0</td>\n",
       "      <td>0.0</td>\n",
       "      <td>0.0</td>\n",
       "      <td>...</td>\n",
       "      <td>0.0</td>\n",
       "      <td>0.0</td>\n",
       "      <td>0.0</td>\n",
       "      <td>0.0</td>\n",
       "      <td>0.0</td>\n",
       "      <td>0.000000</td>\n",
       "      <td>0.0</td>\n",
       "      <td>0.000000</td>\n",
       "      <td>0.0</td>\n",
       "      <td>0.0</td>\n",
       "    </tr>\n",
       "    <tr>\n",
       "      <th>1</th>\n",
       "      <td>ARENES</td>\n",
       "      <td>0.0</td>\n",
       "      <td>0.0</td>\n",
       "      <td>0.0</td>\n",
       "      <td>0.0</td>\n",
       "      <td>0.0</td>\n",
       "      <td>0.0</td>\n",
       "      <td>0.0</td>\n",
       "      <td>0.0</td>\n",
       "      <td>0.0</td>\n",
       "      <td>...</td>\n",
       "      <td>0.0</td>\n",
       "      <td>0.0</td>\n",
       "      <td>0.0</td>\n",
       "      <td>0.0</td>\n",
       "      <td>0.0</td>\n",
       "      <td>0.000000</td>\n",
       "      <td>0.0</td>\n",
       "      <td>0.333333</td>\n",
       "      <td>0.0</td>\n",
       "      <td>0.0</td>\n",
       "    </tr>\n",
       "    <tr>\n",
       "      <th>2</th>\n",
       "      <td>ARNAUD BERNARD</td>\n",
       "      <td>0.0</td>\n",
       "      <td>0.0</td>\n",
       "      <td>0.0</td>\n",
       "      <td>0.0</td>\n",
       "      <td>0.0</td>\n",
       "      <td>0.0</td>\n",
       "      <td>0.0</td>\n",
       "      <td>0.0</td>\n",
       "      <td>0.0</td>\n",
       "      <td>...</td>\n",
       "      <td>0.0</td>\n",
       "      <td>0.0</td>\n",
       "      <td>0.0</td>\n",
       "      <td>0.0</td>\n",
       "      <td>0.0</td>\n",
       "      <td>0.000000</td>\n",
       "      <td>0.0</td>\n",
       "      <td>0.000000</td>\n",
       "      <td>0.0</td>\n",
       "      <td>0.0</td>\n",
       "    </tr>\n",
       "    <tr>\n",
       "      <th>3</th>\n",
       "      <td>BARRIERE-DE-PARIS</td>\n",
       "      <td>0.0</td>\n",
       "      <td>0.0</td>\n",
       "      <td>0.0</td>\n",
       "      <td>0.0</td>\n",
       "      <td>0.0</td>\n",
       "      <td>0.0</td>\n",
       "      <td>0.0</td>\n",
       "      <td>0.0</td>\n",
       "      <td>0.0</td>\n",
       "      <td>...</td>\n",
       "      <td>0.0</td>\n",
       "      <td>0.0</td>\n",
       "      <td>0.0</td>\n",
       "      <td>0.0</td>\n",
       "      <td>0.0</td>\n",
       "      <td>0.333333</td>\n",
       "      <td>0.0</td>\n",
       "      <td>0.000000</td>\n",
       "      <td>0.0</td>\n",
       "      <td>0.0</td>\n",
       "    </tr>\n",
       "    <tr>\n",
       "      <th>4</th>\n",
       "      <td>BASSO-CAMBO</td>\n",
       "      <td>0.0</td>\n",
       "      <td>0.0</td>\n",
       "      <td>0.0</td>\n",
       "      <td>0.0</td>\n",
       "      <td>0.0</td>\n",
       "      <td>0.0</td>\n",
       "      <td>0.0</td>\n",
       "      <td>0.0</td>\n",
       "      <td>0.0</td>\n",
       "      <td>...</td>\n",
       "      <td>0.0</td>\n",
       "      <td>0.0</td>\n",
       "      <td>0.0</td>\n",
       "      <td>0.0</td>\n",
       "      <td>0.0</td>\n",
       "      <td>0.000000</td>\n",
       "      <td>0.0</td>\n",
       "      <td>0.000000</td>\n",
       "      <td>0.0</td>\n",
       "      <td>0.0</td>\n",
       "    </tr>\n",
       "  </tbody>\n",
       "</table>\n",
       "<p>5 rows × 65 columns</p>\n",
       "</div>"
      ],
      "text/plain": [
       "        Neighborhood  African Restaurant  Argentinian Restaurant  \\\n",
       "0        AMIDONNIERS                 0.0                     0.0   \n",
       "1             ARENES                 0.0                     0.0   \n",
       "2     ARNAUD BERNARD                 0.0                     0.0   \n",
       "3  BARRIERE-DE-PARIS                 0.0                     0.0   \n",
       "4        BASSO-CAMBO                 0.0                     0.0   \n",
       "\n",
       "   Asian Restaurant  Athletics & Sports  Badminton Court  Bakery  Bank  Bar  \\\n",
       "0               0.0                 0.0              0.0     0.0   0.0  0.0   \n",
       "1               0.0                 0.0              0.0     0.0   0.0  0.0   \n",
       "2               0.0                 0.0              0.0     0.0   0.0  0.0   \n",
       "3               0.0                 0.0              0.0     0.0   0.0  0.0   \n",
       "4               0.0                 0.0              0.0     0.0   0.0  0.0   \n",
       "\n",
       "   Basketball Court  ...  Supermarket  Tailor Shop  Tapas Restaurant  \\\n",
       "0               0.0  ...          0.0          0.0               0.0   \n",
       "1               0.0  ...          0.0          0.0               0.0   \n",
       "2               0.0  ...          0.0          0.0               0.0   \n",
       "3               0.0  ...          0.0          0.0               0.0   \n",
       "4               0.0  ...          0.0          0.0               0.0   \n",
       "\n",
       "   Tennis Stadium  Theater  Theme Park  Train Station  Tram Station  \\\n",
       "0             0.0      0.0    0.000000            0.0      0.000000   \n",
       "1             0.0      0.0    0.000000            0.0      0.333333   \n",
       "2             0.0      0.0    0.000000            0.0      0.000000   \n",
       "3             0.0      0.0    0.333333            0.0      0.000000   \n",
       "4             0.0      0.0    0.000000            0.0      0.000000   \n",
       "\n",
       "   Vegetarian / Vegan Restaurant  Wine Shop  \n",
       "0                            0.0        0.0  \n",
       "1                            0.0        0.0  \n",
       "2                            0.0        0.0  \n",
       "3                            0.0        0.0  \n",
       "4                            0.0        0.0  \n",
       "\n",
       "[5 rows x 65 columns]"
      ]
     },
     "execution_count": 30,
     "metadata": {},
     "output_type": "execute_result"
    }
   ],
   "source": [
    "popular_venues_onehot = onehot(popular_venues_list)\n",
    "popular_venues_onehot.head()"
   ]
  },
  {
   "cell_type": "markdown",
   "metadata": {},
   "source": [
    "In the same way as the first analysis, I am using KMeans clustering to cluster the neighborhoods into 5 clusters based on the information retrieved."
   ]
  },
  {
   "cell_type": "code",
   "execution_count": 31,
   "metadata": {},
   "outputs": [],
   "source": [
    "kmeans = Kmeans_cluster(popular_venues_onehot,kclusters)"
   ]
  },
  {
   "cell_type": "code",
   "execution_count": 32,
   "metadata": {},
   "outputs": [
    {
     "data": {
      "text/html": [
       "<div>\n",
       "<style scoped>\n",
       "    .dataframe tbody tr th:only-of-type {\n",
       "        vertical-align: middle;\n",
       "    }\n",
       "\n",
       "    .dataframe tbody tr th {\n",
       "        vertical-align: top;\n",
       "    }\n",
       "\n",
       "    .dataframe thead th {\n",
       "        text-align: right;\n",
       "    }\n",
       "</style>\n",
       "<table border=\"1\" class=\"dataframe\">\n",
       "  <thead>\n",
       "    <tr style=\"text-align: right;\">\n",
       "      <th></th>\n",
       "      <th>Cluster Labels</th>\n",
       "      <th>Neighborhood</th>\n",
       "      <th>1st Most Popular Venue</th>\n",
       "      <th>2nd Most Popular Venue</th>\n",
       "      <th>3rd Most Popular Venue</th>\n",
       "    </tr>\n",
       "  </thead>\n",
       "  <tbody>\n",
       "    <tr>\n",
       "      <th>0</th>\n",
       "      <td>0</td>\n",
       "      <td>ARNAUD BERNARD</td>\n",
       "      <td>Pub</td>\n",
       "      <td>Snack Place</td>\n",
       "      <td>Pub</td>\n",
       "    </tr>\n",
       "    <tr>\n",
       "      <th>1</th>\n",
       "      <td>4</td>\n",
       "      <td>LES CHALETS</td>\n",
       "      <td>Comedy Club</td>\n",
       "      <td>Restaurant</td>\n",
       "      <td>Bar</td>\n",
       "    </tr>\n",
       "    <tr>\n",
       "      <th>2</th>\n",
       "      <td>0</td>\n",
       "      <td>MINIMES</td>\n",
       "      <td>Argentinian Restaurant</td>\n",
       "      <td>Pedestrian Plaza</td>\n",
       "      <td>NaN</td>\n",
       "    </tr>\n",
       "    <tr>\n",
       "      <th>3</th>\n",
       "      <td>4</td>\n",
       "      <td>SAUZELONG - RANGUEIL</td>\n",
       "      <td>Metro Station</td>\n",
       "      <td>Bakery</td>\n",
       "      <td>Tapas Restaurant</td>\n",
       "    </tr>\n",
       "    <tr>\n",
       "      <th>4</th>\n",
       "      <td>0</td>\n",
       "      <td>FAOURETTE</td>\n",
       "      <td>IT Services</td>\n",
       "      <td>Bakery</td>\n",
       "      <td>Metro Station</td>\n",
       "    </tr>\n",
       "  </tbody>\n",
       "</table>\n",
       "</div>"
      ],
      "text/plain": [
       "   Cluster Labels          Neighborhood  1st Most Popular Venue  \\\n",
       "0               0        ARNAUD BERNARD                     Pub   \n",
       "1               4           LES CHALETS             Comedy Club   \n",
       "2               0               MINIMES  Argentinian Restaurant   \n",
       "3               4  SAUZELONG - RANGUEIL           Metro Station   \n",
       "4               0             FAOURETTE             IT Services   \n",
       "\n",
       "  2nd Most Popular Venue 3rd Most Popular Venue  \n",
       "0            Snack Place                    Pub  \n",
       "1             Restaurant                    Bar  \n",
       "2       Pedestrian Plaza                    NaN  \n",
       "3                 Bakery       Tapas Restaurant  \n",
       "4                 Bakery          Metro Station  "
      ]
     },
     "execution_count": 32,
     "metadata": {},
     "output_type": "execute_result"
    }
   ],
   "source": [
    "popular_venues.insert(0, 'Cluster Labels', kmeans.labels_)\n",
    "popular_venues.head()"
   ]
  },
  {
   "cell_type": "markdown",
   "metadata": {},
   "source": [
    "The next step is to visualize the clusters."
   ]
  },
  {
   "cell_type": "code",
   "execution_count": 33,
   "metadata": {},
   "outputs": [],
   "source": [
    "cluster_p ={}\n",
    "for i in range(0,kclusters):\n",
    "    cluster_p[i] = popular_venues.loc[popular_venues[\"Cluster Labels\"]==i,popular_venues.columns[[1]+[2]]]"
   ]
  },
  {
   "cell_type": "code",
   "execution_count": 34,
   "metadata": {},
   "outputs": [],
   "source": [
    "def df_for_plot_p(cluster_df):\n",
    "    venue_count = pd.get_dummies(cluster_df[[\"1st Most Popular Venue\"]],prefix=\"\",prefix_sep=\"\")\n",
    "    venue_count = venue_count.sum().sort_values(ascending=False).head()\n",
    "    \n",
    "    return(venue_count) "
   ]
  },
  {
   "cell_type": "code",
   "execution_count": 35,
   "metadata": {},
   "outputs": [
    {
     "data": {
      "image/png": "[encoded data removed]",
      "text/plain": [
       "<Figure size 432x288 with 1 Axes>"
      ]
     },
     "metadata": {
      "needs_background": "light"
     },
     "output_type": "display_data"
    },
    {
     "data": {
      "image/png": "[encoded data removed]",
      "text/plain": [
       "<Figure size 432x288 with 1 Axes>"
      ]
     },
     "metadata": {
      "needs_background": "light"
     },
     "output_type": "display_data"
    },
    {
     "data": {
      "image/png": "[encoded data removed]",
      "text/plain": [
       "<Figure size 432x288 with 1 Axes>"
      ]
     },
     "metadata": {
      "needs_background": "light"
     },
     "output_type": "display_data"
    },
    {
     "data": {
      "image/png": "[encoded data removed]",
      "text/plain": [
       "<Figure size 432x288 with 1 Axes>"
      ]
     },
     "metadata": {
      "needs_background": "light"
     },
     "output_type": "display_data"
    },
    {
     "data": {
      "image/png": "[encoded data removed]",
      "text/plain": [
       "<Figure size 432x288 with 1 Axes>"
      ]
     },
     "metadata": {
      "needs_background": "light"
     },
     "output_type": "display_data"
    }
   ],
   "source": [
    "fig1 = plt.figure()\n",
    "plot_df1 = {}\n",
    "ax1 = fig1.add_axes()\n",
    "\n",
    "for i in range(0,kclusters):\n",
    "    plot_df1[i] = df_for_plot_p(cluster_p[i])\n",
    "    plot_df1[i].plot(kind=\"bar\",ax=ax1)\n",
    "    plt.title(\"Cluster {} Most Popular Venues\".format(i))\n",
    "    plt.xticks(rotation=15,horizontalalignment=\"center\")\n",
    "    plt.show()"
   ]
  },
  {
   "cell_type": "markdown",
   "metadata": {},
   "source": [
    "Similar to what I have done earlier, I find the following characteristics for each of the above clusters:\n",
    "- Cluster 0: The most popular venues are parks and bakeries. This information tells that these neighborhoods are probably residential places with a peaceful environment. This cluster will have a lower ranking.\n",
    "- Cluster 1: With French restaurants and concert halls as popular venues, this cluster is entertainment friendly and food friendly. Both are positives for the cluster and rank higher up as a candidate.\n",
    "- Cluster 2: As restaurants and pubs are more popular here, this cluster is open more to nightlife. So I can put this cluster as a candidate location.\n",
    "- Cluster 3: Plaza is the most popular venue in this cluster. As such, it does not provide much incentive to feature as a candidate location.\n",
    "- Cluster 4: With a soccer stadium, pubs, metro station and restaurants more frequented in these neighborhoods, it is more open to nightlife as well. It is a good candidate location, but with lot of competition as well.    \n",
    "\n",
    "The weightage and points for this analysis will also be considered in the later section."
   ]
  },
  {
   "cell_type": "markdown",
   "metadata": {},
   "source": [
    "### 3.4 Analysis 3"
   ]
  },
  {
   "cell_type": "markdown",
   "metadata": {},
   "source": [
    "The third method is to identify 'key' venue categories which contribute positively to my concerned business. The presence of these key venues in a neighborhood makes it a better candidate location. It is possible to select several key venue categories for a comprehensive analysis. But I am selecting one key venue category for this project - Nightlife Spots.    \n",
    "The Foursquare API call of 'search' can be used to retrieve venues for specific categories. I am using this API call to obtain data regarding most number of nightlife spots in the neighborhoods of Toulouse.   \n",
    "For this analysis, I will use a radius of search of 250 meters. It will provide sufficient exclusivity as Toulouse is a small town and distances between neighborhoods are quite small."
   ]
  },
  {
   "cell_type": "code",
   "execution_count": 36,
   "metadata": {},
   "outputs": [],
   "source": [
    "categoryID = \"4d4b7105d754a06376d81259\" # nightlife spots category"
   ]
  },
  {
   "cell_type": "code",
   "execution_count": 37,
   "metadata": {},
   "outputs": [],
   "source": [
    "radius2 = 250"
   ]
  },
  {
   "cell_type": "code",
   "execution_count": 38,
   "metadata": {},
   "outputs": [],
   "source": [
    "def getNightlifeVenues(names, latitudes, longitudes):\n",
    "    \n",
    "    venues_list=[]\n",
    "    for name, lat, lng in zip(names, latitudes, longitudes):\n",
    "                   \n",
    "        url = 'https://api.foursquare.com/v2/venues/search?&client_id={}&client_secret={}&v={}&ll={},{}&categoryId={}&radius={}&limit={}'.format(\n",
    "            CLIENT_ID,CLIENT_SECRET,VERSION, \n",
    "            lat,lng,categoryID,radius2,limit)\n",
    "            \n",
    "        results = requests.get(url).json()[\"response\"][\"venues\"]\n",
    "        \n",
    "        venues_list.append([(\n",
    "            name,lat,lng, \n",
    "            v['name'], \n",
    "            v['location']['lat'], \n",
    "            v['location']['lng'],  \n",
    "            v['categories'][0]['name']) for v in results])\n",
    "\n",
    "    nightlife_venues = pd.DataFrame([item for venue_list in venues_list for item in venue_list])\n",
    "    nightlife_venues.columns = ['Neighborhood','Neighborhood Latitude','Neighborhood Longitude', \n",
    "                  'Venue','Venue Latitude','Venue Longitude','Venue Category']\n",
    "    \n",
    "    return(nightlife_venues)"
   ]
  },
  {
   "cell_type": "code",
   "execution_count": 39,
   "metadata": {},
   "outputs": [
    {
     "data": {
      "text/html": [
       "<div>\n",
       "<style scoped>\n",
       "    .dataframe tbody tr th:only-of-type {\n",
       "        vertical-align: middle;\n",
       "    }\n",
       "\n",
       "    .dataframe tbody tr th {\n",
       "        vertical-align: top;\n",
       "    }\n",
       "\n",
       "    .dataframe thead th {\n",
       "        text-align: right;\n",
       "    }\n",
       "</style>\n",
       "<table border=\"1\" class=\"dataframe\">\n",
       "  <thead>\n",
       "    <tr style=\"text-align: right;\">\n",
       "      <th></th>\n",
       "      <th>Neighborhood</th>\n",
       "      <th>Neighborhood Latitude</th>\n",
       "      <th>Neighborhood Longitude</th>\n",
       "      <th>Venue</th>\n",
       "      <th>Venue Latitude</th>\n",
       "      <th>Venue Longitude</th>\n",
       "      <th>Venue Category</th>\n",
       "    </tr>\n",
       "  </thead>\n",
       "  <tbody>\n",
       "    <tr>\n",
       "      <th>0</th>\n",
       "      <td>ARNAUD BERNARD</td>\n",
       "      <td>43.607588</td>\n",
       "      <td>1.439794</td>\n",
       "      <td>La Fabrique</td>\n",
       "      <td>43.607444</td>\n",
       "      <td>1.439835</td>\n",
       "      <td>Bar</td>\n",
       "    </tr>\n",
       "    <tr>\n",
       "      <th>1</th>\n",
       "      <td>ARNAUD BERNARD</td>\n",
       "      <td>43.607588</td>\n",
       "      <td>1.439794</td>\n",
       "      <td>George &amp; the Dragon</td>\n",
       "      <td>43.607416</td>\n",
       "      <td>1.439559</td>\n",
       "      <td>Pub</td>\n",
       "    </tr>\n",
       "    <tr>\n",
       "      <th>2</th>\n",
       "      <td>ARNAUD BERNARD</td>\n",
       "      <td>43.607588</td>\n",
       "      <td>1.439794</td>\n",
       "      <td>Café Des Facs</td>\n",
       "      <td>43.607466</td>\n",
       "      <td>1.439919</td>\n",
       "      <td>Bar</td>\n",
       "    </tr>\n",
       "    <tr>\n",
       "      <th>3</th>\n",
       "      <td>ARNAUD BERNARD</td>\n",
       "      <td>43.607588</td>\n",
       "      <td>1.439794</td>\n",
       "      <td>Bichette</td>\n",
       "      <td>43.607560</td>\n",
       "      <td>1.439298</td>\n",
       "      <td>Wine Bar</td>\n",
       "    </tr>\n",
       "    <tr>\n",
       "      <th>4</th>\n",
       "      <td>ARNAUD BERNARD</td>\n",
       "      <td>43.607588</td>\n",
       "      <td>1.439794</td>\n",
       "      <td>Campagne</td>\n",
       "      <td>43.606033</td>\n",
       "      <td>1.441295</td>\n",
       "      <td>Wine Bar</td>\n",
       "    </tr>\n",
       "  </tbody>\n",
       "</table>\n",
       "</div>"
      ],
      "text/plain": [
       "     Neighborhood  Neighborhood Latitude  Neighborhood Longitude  \\\n",
       "0  ARNAUD BERNARD              43.607588                1.439794   \n",
       "1  ARNAUD BERNARD              43.607588                1.439794   \n",
       "2  ARNAUD BERNARD              43.607588                1.439794   \n",
       "3  ARNAUD BERNARD              43.607588                1.439794   \n",
       "4  ARNAUD BERNARD              43.607588                1.439794   \n",
       "\n",
       "                 Venue  Venue Latitude  Venue Longitude Venue Category  \n",
       "0          La Fabrique       43.607444         1.439835            Bar  \n",
       "1  George & the Dragon       43.607416         1.439559            Pub  \n",
       "2        Café Des Facs       43.607466         1.439919            Bar  \n",
       "3             Bichette       43.607560         1.439298       Wine Bar  \n",
       "4             Campagne       43.606033         1.441295       Wine Bar  "
      ]
     },
     "execution_count": 39,
     "metadata": {},
     "output_type": "execute_result"
    }
   ],
   "source": [
    "nightlife_venues_list = getNightlifeVenues(names=df['Neighborhood'],latitudes=df['Latitude'],\n",
    "                                   longitudes=df['Longitude'])\n",
    "\n",
    "nightlife_venues_list.head()"
   ]
  },
  {
   "cell_type": "code",
   "execution_count": 41,
   "metadata": {},
   "outputs": [
    {
     "data": {
      "text/html": [
       "<div>\n",
       "<style scoped>\n",
       "    .dataframe tbody tr th:only-of-type {\n",
       "        vertical-align: middle;\n",
       "    }\n",
       "\n",
       "    .dataframe tbody tr th {\n",
       "        vertical-align: top;\n",
       "    }\n",
       "\n",
       "    .dataframe thead th {\n",
       "        text-align: right;\n",
       "    }\n",
       "</style>\n",
       "<table border=\"1\" class=\"dataframe\">\n",
       "  <thead>\n",
       "    <tr style=\"text-align: right;\">\n",
       "      <th></th>\n",
       "      <th>Neighborhood</th>\n",
       "      <th>Venue</th>\n",
       "    </tr>\n",
       "  </thead>\n",
       "  <tbody>\n",
       "    <tr>\n",
       "      <th>0</th>\n",
       "      <td>SAINT-GEORGES</td>\n",
       "      <td>46</td>\n",
       "    </tr>\n",
       "    <tr>\n",
       "      <th>1</th>\n",
       "      <td>CAPITOLE</td>\n",
       "      <td>43</td>\n",
       "    </tr>\n",
       "    <tr>\n",
       "      <th>2</th>\n",
       "      <td>SAINT-AUBIN - DUPUY</td>\n",
       "      <td>27</td>\n",
       "    </tr>\n",
       "    <tr>\n",
       "      <th>3</th>\n",
       "      <td>MATABIAU</td>\n",
       "      <td>24</td>\n",
       "    </tr>\n",
       "    <tr>\n",
       "      <th>4</th>\n",
       "      <td>CARMES</td>\n",
       "      <td>15</td>\n",
       "    </tr>\n",
       "  </tbody>\n",
       "</table>\n",
       "</div>"
      ],
      "text/plain": [
       "          Neighborhood  Venue\n",
       "0        SAINT-GEORGES     46\n",
       "1             CAPITOLE     43\n",
       "2  SAINT-AUBIN - DUPUY     27\n",
       "3             MATABIAU     24\n",
       "4               CARMES     15"
      ]
     },
     "execution_count": 41,
     "metadata": {},
     "output_type": "execute_result"
    }
   ],
   "source": [
    "venuecounts_nightlife = nightlife_venues_list[[\"Neighborhood\",\"Venue\"]].groupby(\"Neighborhood\").count().sort_values(by=\"Venue\",ascending=False).reset_index()\n",
    "venuecounts_nightlife.head()"
   ]
  },
  {
   "cell_type": "markdown",
   "metadata": {},
   "source": [
    "The next step is to visualize the result. In this analysis, I dont use a clustering method as the retrieved result directly provides us good candidate locations."
   ]
  },
  {
   "cell_type": "code",
   "execution_count": 42,
   "metadata": {},
   "outputs": [
    {
     "data": {
      "text/plain": [
       "(array([0, 1, 2, 3, 4, 5, 6, 7, 8, 9]), <a list of 10 Text xticklabel objects>)"
      ]
     },
     "execution_count": 42,
     "metadata": {},
     "output_type": "execute_result"
    },
    {
     "data": {
      "image/png": "[encoded data removed]",
      "text/plain": [
       "<Figure size 1152x576 with 1 Axes>"
      ]
     },
     "metadata": {
      "needs_background": "light"
     },
     "output_type": "display_data"
    }
   ],
   "source": [
    "venuecounts_nightlife.head(10).plot(kind='bar',x=\"Neighborhood\",figsize=(16,8))\n",
    "plt.title(\"Most Nightlife Spots\")\n",
    "plt.xticks(rotation=15,horizontalalignment=\"center\")"
   ]
  },
  {
   "cell_type": "markdown",
   "metadata": {},
   "source": [
    "## 4. Results"
   ]
  },
  {
   "cell_type": "markdown",
   "metadata": {},
   "source": [
    "This section will detail the method of compiling the results of the 3 previous analyses and obtaining a comprehensive output.   \n",
    "The principle is to allocate points to each neighborhood based on their performance in each of the analyses above. For the 1st two analyses, a weightage will be allocated to each cluster which will be used to calculate points for each neighborhood. For the third analysis, the weightage will be 1.    \n",
    "The calculation in detail is as follows."
   ]
  },
  {
   "cell_type": "markdown",
   "metadata": {},
   "source": [
    "Points system:"
   ]
  },
  {
   "cell_type": "markdown",
   "metadata": {},
   "source": [
    "For the 1st set, the following weightage are given for each cluster:    \n",
    "1. Cluster 0 - 8\n",
    "2. Cluster 4 - 6\n",
    "3. Cluster 3 - 4\n",
    "4. Cluster 2 - 2\n",
    "5. Cluster 1 - 0"
   ]
  },
  {
   "cell_type": "markdown",
   "metadata": {},
   "source": [
    "For the 2nd set, the following weightage are given:    \n",
    "1. Cluster 2 - 8\n",
    "2. Cluster 4 - 6\n",
    "3. Cluster 1 - 4\n",
    "4. Cluster 0 - 2\n",
    "5. Cluster 3 - 0"
   ]
  },
  {
   "cell_type": "markdown",
   "metadata": {},
   "source": [
    "For the 3rd set, weightage is 1 for all values."
   ]
  },
  {
   "cell_type": "markdown",
   "metadata": {},
   "source": [
    "Updated tables for each analysis with weightage and points:"
   ]
  },
  {
   "cell_type": "code",
   "execution_count": 43,
   "metadata": {},
   "outputs": [
    {
     "name": "stderr",
     "output_type": "stream",
     "text": [
      "C:\\Users\\anil_\\anaconda3\\lib\\site-packages\\pandas\\core\\frame.py:4133: SettingWithCopyWarning: \n",
      "A value is trying to be set on a copy of a slice from a DataFrame\n",
      "\n",
      "See the caveats in the documentation: https://pandas.pydata.org/pandas-docs/stable/user_guide/indexing.html#returning-a-view-versus-a-copy\n",
      "  errors=errors,\n",
      "C:\\Users\\anil_\\anaconda3\\lib\\site-packages\\ipykernel_launcher.py:3: SettingWithCopyWarning: \n",
      "A value is trying to be set on a copy of a slice from a DataFrame.\n",
      "Try using .loc[row_indexer,col_indexer] = value instead\n",
      "\n",
      "See the caveats in the documentation: https://pandas.pydata.org/pandas-docs/stable/user_guide/indexing.html#returning-a-view-versus-a-copy\n",
      "  This is separate from the ipykernel package so we can avoid doing imports until\n"
     ]
    }
   ],
   "source": [
    "df_common = common_venues[[\"Neighborhood\",\"Cluster Labels\",\"1st Most Common Venue\"]]\n",
    "df_common.rename(columns={\"1st Most Common Venue\":\"Most Common Venue\"},inplace=True)\n",
    "df_common[\"Points C\"] = 0"
   ]
  },
  {
   "cell_type": "code",
   "execution_count": 45,
   "metadata": {},
   "outputs": [
    {
     "data": {
      "text/html": [
       "<div>\n",
       "<style scoped>\n",
       "    .dataframe tbody tr th:only-of-type {\n",
       "        vertical-align: middle;\n",
       "    }\n",
       "\n",
       "    .dataframe tbody tr th {\n",
       "        vertical-align: top;\n",
       "    }\n",
       "\n",
       "    .dataframe thead th {\n",
       "        text-align: right;\n",
       "    }\n",
       "</style>\n",
       "<table border=\"1\" class=\"dataframe\">\n",
       "  <thead>\n",
       "    <tr style=\"text-align: right;\">\n",
       "      <th></th>\n",
       "      <th>Neighborhood</th>\n",
       "      <th>Cluster Labels</th>\n",
       "      <th>Most Common Venue</th>\n",
       "      <th>Points C</th>\n",
       "    </tr>\n",
       "  </thead>\n",
       "  <tbody>\n",
       "    <tr>\n",
       "      <th>0</th>\n",
       "      <td>ARNAUD BERNARD</td>\n",
       "      <td>0</td>\n",
       "      <td>French Restaurant</td>\n",
       "      <td>32</td>\n",
       "    </tr>\n",
       "    <tr>\n",
       "      <th>1</th>\n",
       "      <td>LES CHALETS</td>\n",
       "      <td>0</td>\n",
       "      <td>Italian Restaurant</td>\n",
       "      <td>32</td>\n",
       "    </tr>\n",
       "    <tr>\n",
       "      <th>2</th>\n",
       "      <td>MINIMES</td>\n",
       "      <td>0</td>\n",
       "      <td>Argentinian Restaurant</td>\n",
       "      <td>32</td>\n",
       "    </tr>\n",
       "    <tr>\n",
       "      <th>3</th>\n",
       "      <td>SAUZELONG - RANGUEIL</td>\n",
       "      <td>3</td>\n",
       "      <td>Metro Station</td>\n",
       "      <td>8</td>\n",
       "    </tr>\n",
       "    <tr>\n",
       "      <th>4</th>\n",
       "      <td>FAOURETTE</td>\n",
       "      <td>3</td>\n",
       "      <td>IT Services</td>\n",
       "      <td>8</td>\n",
       "    </tr>\n",
       "  </tbody>\n",
       "</table>\n",
       "</div>"
      ],
      "text/plain": [
       "           Neighborhood  Cluster Labels       Most Common Venue  Points C\n",
       "0        ARNAUD BERNARD               0       French Restaurant        32\n",
       "1           LES CHALETS               0      Italian Restaurant        32\n",
       "2               MINIMES               0  Argentinian Restaurant        32\n",
       "3  SAUZELONG - RANGUEIL               3           Metro Station         8\n",
       "4             FAOURETTE               3             IT Services         8"
      ]
     },
     "execution_count": 45,
     "metadata": {},
     "output_type": "execute_result"
    }
   ],
   "source": [
    "weightage_c = [8,0,2,4,6]\n",
    "\n",
    "for i in range(0,df_common.shape[0]):\n",
    "    m = df_common.iloc[i][\"Cluster Labels\"]\n",
    "    df_common.iat[i,3] = (weightage_c[m]*(df_for_plot_c(cluster_c[m])[0]))\n",
    "    \n",
    "df_common.head()"
   ]
  },
  {
   "cell_type": "code",
   "execution_count": 46,
   "metadata": {},
   "outputs": [
    {
     "name": "stderr",
     "output_type": "stream",
     "text": [
      "C:\\Users\\anil_\\anaconda3\\lib\\site-packages\\ipykernel_launcher.py:2: SettingWithCopyWarning: \n",
      "A value is trying to be set on a copy of a slice from a DataFrame.\n",
      "Try using .loc[row_indexer,col_indexer] = value instead\n",
      "\n",
      "See the caveats in the documentation: https://pandas.pydata.org/pandas-docs/stable/user_guide/indexing.html#returning-a-view-versus-a-copy\n",
      "  \n",
      "C:\\Users\\anil_\\anaconda3\\lib\\site-packages\\pandas\\core\\frame.py:4133: SettingWithCopyWarning: \n",
      "A value is trying to be set on a copy of a slice from a DataFrame\n",
      "\n",
      "See the caveats in the documentation: https://pandas.pydata.org/pandas-docs/stable/user_guide/indexing.html#returning-a-view-versus-a-copy\n",
      "  errors=errors,\n"
     ]
    }
   ],
   "source": [
    "df_popular = popular_venues[[\"Neighborhood\",\"Cluster Labels\",\"1st Most Popular Venue\"]]\n",
    "df_popular[\"Points P\"] = 0\n",
    "df_popular.rename(columns={\"1st Most Popular Venue\":\"Most Popular Venue\"},inplace=True)"
   ]
  },
  {
   "cell_type": "code",
   "execution_count": 47,
   "metadata": {},
   "outputs": [
    {
     "data": {
      "text/html": [
       "<div>\n",
       "<style scoped>\n",
       "    .dataframe tbody tr th:only-of-type {\n",
       "        vertical-align: middle;\n",
       "    }\n",
       "\n",
       "    .dataframe tbody tr th {\n",
       "        vertical-align: top;\n",
       "    }\n",
       "\n",
       "    .dataframe thead th {\n",
       "        text-align: right;\n",
       "    }\n",
       "</style>\n",
       "<table border=\"1\" class=\"dataframe\">\n",
       "  <thead>\n",
       "    <tr style=\"text-align: right;\">\n",
       "      <th></th>\n",
       "      <th>Neighborhood</th>\n",
       "      <th>Cluster Labels</th>\n",
       "      <th>Most Popular Venue</th>\n",
       "      <th>Points P</th>\n",
       "    </tr>\n",
       "  </thead>\n",
       "  <tbody>\n",
       "    <tr>\n",
       "      <th>0</th>\n",
       "      <td>ARNAUD BERNARD</td>\n",
       "      <td>0</td>\n",
       "      <td>Pub</td>\n",
       "      <td>10</td>\n",
       "    </tr>\n",
       "    <tr>\n",
       "      <th>1</th>\n",
       "      <td>LES CHALETS</td>\n",
       "      <td>4</td>\n",
       "      <td>Comedy Club</td>\n",
       "      <td>6</td>\n",
       "    </tr>\n",
       "    <tr>\n",
       "      <th>2</th>\n",
       "      <td>MINIMES</td>\n",
       "      <td>0</td>\n",
       "      <td>Argentinian Restaurant</td>\n",
       "      <td>10</td>\n",
       "    </tr>\n",
       "    <tr>\n",
       "      <th>3</th>\n",
       "      <td>SAUZELONG - RANGUEIL</td>\n",
       "      <td>4</td>\n",
       "      <td>Metro Station</td>\n",
       "      <td>6</td>\n",
       "    </tr>\n",
       "    <tr>\n",
       "      <th>4</th>\n",
       "      <td>FAOURETTE</td>\n",
       "      <td>0</td>\n",
       "      <td>IT Services</td>\n",
       "      <td>10</td>\n",
       "    </tr>\n",
       "  </tbody>\n",
       "</table>\n",
       "</div>"
      ],
      "text/plain": [
       "           Neighborhood  Cluster Labels      Most Popular Venue  Points P\n",
       "0        ARNAUD BERNARD               0                     Pub        10\n",
       "1           LES CHALETS               4             Comedy Club         6\n",
       "2               MINIMES               0  Argentinian Restaurant        10\n",
       "3  SAUZELONG - RANGUEIL               4           Metro Station         6\n",
       "4             FAOURETTE               0             IT Services        10"
      ]
     },
     "execution_count": 47,
     "metadata": {},
     "output_type": "execute_result"
    }
   ],
   "source": [
    "weightage_p = [2,4,8,0,6]\n",
    "\n",
    "for i in range(0,df_popular.shape[0]):\n",
    "    m = df_popular.iloc[i][\"Cluster Labels\"]\n",
    "    df_popular.iat[i,3] = (weightage_p[m]*(df_for_plot_p(cluster_p[m])[0]))\n",
    "    \n",
    "df_popular.head()"
   ]
  },
  {
   "cell_type": "code",
   "execution_count": 49,
   "metadata": {},
   "outputs": [
    {
     "data": {
      "text/html": [
       "<div>\n",
       "<style scoped>\n",
       "    .dataframe tbody tr th:only-of-type {\n",
       "        vertical-align: middle;\n",
       "    }\n",
       "\n",
       "    .dataframe tbody tr th {\n",
       "        vertical-align: top;\n",
       "    }\n",
       "\n",
       "    .dataframe thead th {\n",
       "        text-align: right;\n",
       "    }\n",
       "</style>\n",
       "<table border=\"1\" class=\"dataframe\">\n",
       "  <thead>\n",
       "    <tr style=\"text-align: right;\">\n",
       "      <th></th>\n",
       "      <th>Neighborhood</th>\n",
       "      <th>Points N</th>\n",
       "    </tr>\n",
       "  </thead>\n",
       "  <tbody>\n",
       "    <tr>\n",
       "      <th>0</th>\n",
       "      <td>SAINT-GEORGES</td>\n",
       "      <td>46</td>\n",
       "    </tr>\n",
       "    <tr>\n",
       "      <th>1</th>\n",
       "      <td>CAPITOLE</td>\n",
       "      <td>43</td>\n",
       "    </tr>\n",
       "    <tr>\n",
       "      <th>2</th>\n",
       "      <td>SAINT-AUBIN - DUPUY</td>\n",
       "      <td>27</td>\n",
       "    </tr>\n",
       "    <tr>\n",
       "      <th>3</th>\n",
       "      <td>MATABIAU</td>\n",
       "      <td>24</td>\n",
       "    </tr>\n",
       "    <tr>\n",
       "      <th>4</th>\n",
       "      <td>CARMES</td>\n",
       "      <td>15</td>\n",
       "    </tr>\n",
       "  </tbody>\n",
       "</table>\n",
       "</div>"
      ],
      "text/plain": [
       "          Neighborhood  Points N\n",
       "0        SAINT-GEORGES        46\n",
       "1             CAPITOLE        43\n",
       "2  SAINT-AUBIN - DUPUY        27\n",
       "3             MATABIAU        24\n",
       "4               CARMES        15"
      ]
     },
     "execution_count": 49,
     "metadata": {},
     "output_type": "execute_result"
    }
   ],
   "source": [
    "df_nightlife = venuecounts_nightlife.rename(columns={\"Venue\":\"Points N\"})\n",
    "df_nightlife.head()"
   ]
  },
  {
   "cell_type": "markdown",
   "metadata": {},
   "source": [
    "The next set of code combines all the points scored from the 3 analyses."
   ]
  },
  {
   "cell_type": "code",
   "execution_count": 50,
   "metadata": {},
   "outputs": [],
   "source": [
    "df_2 = df_common.merge(df_popular,on=\"Neighborhood\",how='outer')\n",
    "df_final = df_2.merge(df_nightlife,on=\"Neighborhood\",how='outer')\n",
    "df_final.drop([\"Cluster Labels_x\",\"Cluster Labels_y\",\"Most Common Venue\",\"Most Popular Venue\"],axis=1,inplace=True)\n",
    "df_final = df_final.fillna(0)\n",
    "df_final[\"Points N\"] = df_final[\"Points N\"].astype('int32')"
   ]
  },
  {
   "cell_type": "code",
   "execution_count": 51,
   "metadata": {},
   "outputs": [
    {
     "data": {
      "text/html": [
       "<div>\n",
       "<style scoped>\n",
       "    .dataframe tbody tr th:only-of-type {\n",
       "        vertical-align: middle;\n",
       "    }\n",
       "\n",
       "    .dataframe tbody tr th {\n",
       "        vertical-align: top;\n",
       "    }\n",
       "\n",
       "    .dataframe thead th {\n",
       "        text-align: right;\n",
       "    }\n",
       "</style>\n",
       "<table border=\"1\" class=\"dataframe\">\n",
       "  <thead>\n",
       "    <tr style=\"text-align: right;\">\n",
       "      <th></th>\n",
       "      <th>Neighborhood</th>\n",
       "      <th>Points C</th>\n",
       "      <th>Points P</th>\n",
       "      <th>Points N</th>\n",
       "      <th>Total Points</th>\n",
       "    </tr>\n",
       "  </thead>\n",
       "  <tbody>\n",
       "    <tr>\n",
       "      <th>0</th>\n",
       "      <td>ARNAUD BERNARD</td>\n",
       "      <td>32</td>\n",
       "      <td>10</td>\n",
       "      <td>13</td>\n",
       "      <td>55</td>\n",
       "    </tr>\n",
       "    <tr>\n",
       "      <th>1</th>\n",
       "      <td>LES CHALETS</td>\n",
       "      <td>32</td>\n",
       "      <td>6</td>\n",
       "      <td>2</td>\n",
       "      <td>40</td>\n",
       "    </tr>\n",
       "    <tr>\n",
       "      <th>2</th>\n",
       "      <td>MINIMES</td>\n",
       "      <td>32</td>\n",
       "      <td>10</td>\n",
       "      <td>1</td>\n",
       "      <td>43</td>\n",
       "    </tr>\n",
       "    <tr>\n",
       "      <th>3</th>\n",
       "      <td>SAUZELONG - RANGUEIL</td>\n",
       "      <td>8</td>\n",
       "      <td>6</td>\n",
       "      <td>2</td>\n",
       "      <td>16</td>\n",
       "    </tr>\n",
       "    <tr>\n",
       "      <th>4</th>\n",
       "      <td>FAOURETTE</td>\n",
       "      <td>8</td>\n",
       "      <td>10</td>\n",
       "      <td>0</td>\n",
       "      <td>18</td>\n",
       "    </tr>\n",
       "  </tbody>\n",
       "</table>\n",
       "</div>"
      ],
      "text/plain": [
       "           Neighborhood  Points C  Points P  Points N  Total Points\n",
       "0        ARNAUD BERNARD        32        10        13            55\n",
       "1           LES CHALETS        32         6         2            40\n",
       "2               MINIMES        32        10         1            43\n",
       "3  SAUZELONG - RANGUEIL         8         6         2            16\n",
       "4             FAOURETTE         8        10         0            18"
      ]
     },
     "execution_count": 51,
     "metadata": {},
     "output_type": "execute_result"
    }
   ],
   "source": [
    "df_final[\"Total Points\"] = 0\n",
    "\n",
    "for i in range(0,df_final.shape[0]):\n",
    "    df_final.iat[i,4] = (df_final.iloc[i][\"Points C\"] + df_final.iloc[i][\"Points P\"] + df_final.iloc[i][\"Points N\"])\n",
    "\n",
    "df_final.head() "
   ]
  },
  {
   "cell_type": "markdown",
   "metadata": {},
   "source": [
    "At the end of this section, we can finally generate a table based on the points scored by each neighborhood and identify the highest scoring neighborhoods. The data is shown below with the 10 most apt candidate locations."
   ]
  },
  {
   "cell_type": "code",
   "execution_count": 52,
   "metadata": {},
   "outputs": [
    {
     "data": {
      "text/html": [
       "<div>\n",
       "<style scoped>\n",
       "    .dataframe tbody tr th:only-of-type {\n",
       "        vertical-align: middle;\n",
       "    }\n",
       "\n",
       "    .dataframe tbody tr th {\n",
       "        vertical-align: top;\n",
       "    }\n",
       "\n",
       "    .dataframe thead th {\n",
       "        text-align: right;\n",
       "    }\n",
       "</style>\n",
       "<table border=\"1\" class=\"dataframe\">\n",
       "  <thead>\n",
       "    <tr style=\"text-align: right;\">\n",
       "      <th></th>\n",
       "      <th>Neighborhood</th>\n",
       "      <th>Points C</th>\n",
       "      <th>Points P</th>\n",
       "      <th>Points N</th>\n",
       "      <th>Total Points</th>\n",
       "    </tr>\n",
       "  </thead>\n",
       "  <tbody>\n",
       "    <tr>\n",
       "      <th>34</th>\n",
       "      <td>SAINT-GEORGES</td>\n",
       "      <td>32</td>\n",
       "      <td>10</td>\n",
       "      <td>46</td>\n",
       "      <td>88</td>\n",
       "    </tr>\n",
       "    <tr>\n",
       "      <th>21</th>\n",
       "      <td>CAPITOLE</td>\n",
       "      <td>32</td>\n",
       "      <td>10</td>\n",
       "      <td>43</td>\n",
       "      <td>85</td>\n",
       "    </tr>\n",
       "    <tr>\n",
       "      <th>46</th>\n",
       "      <td>SAINT-AUBIN - DUPUY</td>\n",
       "      <td>32</td>\n",
       "      <td>10</td>\n",
       "      <td>27</td>\n",
       "      <td>69</td>\n",
       "    </tr>\n",
       "    <tr>\n",
       "      <th>22</th>\n",
       "      <td>MATABIAU</td>\n",
       "      <td>32</td>\n",
       "      <td>10</td>\n",
       "      <td>24</td>\n",
       "      <td>66</td>\n",
       "    </tr>\n",
       "    <tr>\n",
       "      <th>37</th>\n",
       "      <td>SAINT-MICHEL</td>\n",
       "      <td>32</td>\n",
       "      <td>16</td>\n",
       "      <td>8</td>\n",
       "      <td>56</td>\n",
       "    </tr>\n",
       "    <tr>\n",
       "      <th>0</th>\n",
       "      <td>ARNAUD BERNARD</td>\n",
       "      <td>32</td>\n",
       "      <td>10</td>\n",
       "      <td>13</td>\n",
       "      <td>55</td>\n",
       "    </tr>\n",
       "    <tr>\n",
       "      <th>10</th>\n",
       "      <td>SAINT-ETIENNE</td>\n",
       "      <td>32</td>\n",
       "      <td>10</td>\n",
       "      <td>13</td>\n",
       "      <td>55</td>\n",
       "    </tr>\n",
       "    <tr>\n",
       "      <th>44</th>\n",
       "      <td>CARMES</td>\n",
       "      <td>32</td>\n",
       "      <td>6</td>\n",
       "      <td>15</td>\n",
       "      <td>53</td>\n",
       "    </tr>\n",
       "    <tr>\n",
       "      <th>11</th>\n",
       "      <td>SAINT-CYPRIEN</td>\n",
       "      <td>32</td>\n",
       "      <td>6</td>\n",
       "      <td>13</td>\n",
       "      <td>51</td>\n",
       "    </tr>\n",
       "    <tr>\n",
       "      <th>35</th>\n",
       "      <td>COMPANS</td>\n",
       "      <td>32</td>\n",
       "      <td>10</td>\n",
       "      <td>7</td>\n",
       "      <td>49</td>\n",
       "    </tr>\n",
       "  </tbody>\n",
       "</table>\n",
       "</div>"
      ],
      "text/plain": [
       "           Neighborhood  Points C  Points P  Points N  Total Points\n",
       "34        SAINT-GEORGES        32        10        46            88\n",
       "21             CAPITOLE        32        10        43            85\n",
       "46  SAINT-AUBIN - DUPUY        32        10        27            69\n",
       "22             MATABIAU        32        10        24            66\n",
       "37         SAINT-MICHEL        32        16         8            56\n",
       "0        ARNAUD BERNARD        32        10        13            55\n",
       "10        SAINT-ETIENNE        32        10        13            55\n",
       "44               CARMES        32         6        15            53\n",
       "11        SAINT-CYPRIEN        32         6        13            51\n",
       "35              COMPANS        32        10         7            49"
      ]
     },
     "execution_count": 52,
     "metadata": {},
     "output_type": "execute_result"
    }
   ],
   "source": [
    "df_topcandidates = df_final.sort_values(by=\"Total Points\",ascending=False).head(10)\n",
    "df_topcandidates"
   ]
  },
  {
   "cell_type": "markdown",
   "metadata": {},
   "source": [
    "We can also visualize the performance of these neighborhoods with their points scored."
   ]
  },
  {
   "cell_type": "code",
   "execution_count": 55,
   "metadata": {},
   "outputs": [
    {
     "data": {
      "text/plain": [
       "(array([0, 1, 2, 3, 4, 5, 6, 7, 8, 9]), <a list of 10 Text xticklabel objects>)"
      ]
     },
     "execution_count": 55,
     "metadata": {},
     "output_type": "execute_result"
    },
    {
     "data": {
      "image/png": "[encoded data removed]",
      "text/plain": [
       "<Figure size 1152x576 with 1 Axes>"
      ]
     },
     "metadata": {
      "needs_background": "light"
     },
     "output_type": "display_data"
    }
   ],
   "source": [
    "df_topcandidates.plot(kind=\"bar\",x=\"Neighborhood\",figsize=(16,8))\n",
    "plt.title(\"Top Candidate Neighborhoods in Toulouse\")\n",
    "plt.ylabel(\"Points\")\n",
    "plt.xticks(rotation=15,horizontalalignment=\"center\")"
   ]
  },
  {
   "cell_type": "markdown",
   "metadata": {},
   "source": [
    "Finally we will generate the initial map of Toulouse again with the 10 most apt candidate locations marked in Red."
   ]
  },
  {
   "cell_type": "code",
   "execution_count": 58,
   "metadata": {},
   "outputs": [
    {
     "data": {
      "text/html": [
       "<div style=\"width:100%;\"><div style=\"position:relative;width:100%;height:0;padding-bottom:60%;\"><span style=\"color:#565656\">Make this Notebook Trusted to load map: File -> Trust Notebook</span><iframe src=\"about:blank\" style=\"position:absolute;width:100%;height:100%;left:0;top:0;border:none !important;\" data-html=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 onload=\"this.contentDocument.open();this.contentDocument.write(atob(this.getAttribute('data-html')));this.contentDocument.close();\" allowfullscreen webkitallowfullscreen mozallowfullscreen></iframe></div></div>"
      ],
      "text/plain": [
       "<folium.folium.Map at 0x1ff1a65d188>"
      ]
     },
     "execution_count": 58,
     "metadata": {},
     "output_type": "execute_result"
    }
   ],
   "source": [
    "map_toulouse_candidates = folium.Map(location=[latitude, longitude], zoom_start=12)\n",
    "\n",
    "for lat, lng, neighborhood in zip(df['Latitude'], df['Longitude'], df['Neighborhood']):\n",
    "    label = '{}'.format(neighborhood)\n",
    "    label = folium.Popup(label, parse_html=True)\n",
    "    \n",
    "    if neighborhood in list(df_topcandidates[\"Neighborhood\"]):\n",
    "        color = 'red'\n",
    "    else:\n",
    "        color = 'blue'\n",
    "        \n",
    "    folium.CircleMarker(\n",
    "        [lat, lng],\n",
    "        radius=5,\n",
    "        popup=label,\n",
    "        color=color,\n",
    "        fill=True,\n",
    "        fill_color='#3186cc',\n",
    "        fill_opacity=0.7,\n",
    "        parse_html=False).add_to(map_toulouse_candidates)  \n",
    "    \n",
    "map_toulouse_candidates"
   ]
  },
  {
   "cell_type": "markdown",
   "metadata": {},
   "source": [
    "## 5. Discussion"
   ]
  },
  {
   "cell_type": "markdown",
   "metadata": {},
   "source": [
    "The result visualized on the map gives a good idea of the optimum locations to open a Games and Recreations Center in Toulouse. The result makes a lot of sense too as the locations are close to the town centre where there are lot of restaurants, activity centers, ease of accessibility and are publically very active locations.     \n",
    "The study of data gives the added advantages that I can be 100% confident of the locations selected, and it filters out the less apt candidates even though they seem perfect at first glance.     \n",
    "I can also remark that the analysis can always be improved. Other factors that affect the success of a business opening can be used to generate data. The premium features of Foursquare and many other key venue categories can be used to perform a very comprehensive analysis covering all aspects of a location. "
   ]
  },
  {
   "cell_type": "markdown",
   "metadata": {},
   "source": [
    "## 6. Conclusion"
   ]
  },
  {
   "cell_type": "markdown",
   "metadata": {},
   "source": [
    "The aim of this project to find optimum candidate locations for the opening of a Games and Recreations Center have been accomplished and the top 10 candidate neighborhoods have been identified and visualized.    \n",
    "The different parts of the analysis have been performed accurately and well documented. These can be used as bases for more complicated analyses in the future.     \n",
    "Further improvement and additions have been identified and noted for the benefit of data science enthusiasts.\n"
   ]
  },
  {
   "cell_type": "code",
   "execution_count": null,
   "metadata": {},
   "outputs": [],
   "source": []
  }
 ],
 "metadata": {
  "kernelspec": {
   "display_name": "Python 3",
   "language": "python",
   "name": "python3"
  },
  "language_info": {
   "codemirror_mode": {
    "name": "ipython",
    "version": 3
   },
   "file_extension": ".py",
   "mimetype": "text/x-python",
   "name": "python",
   "nbconvert_exporter": "python",
   "pygments_lexer": "ipython3",
   "version": "3.7.6"
  }
 },
 "nbformat": 4,
 "nbformat_minor": 4
}
