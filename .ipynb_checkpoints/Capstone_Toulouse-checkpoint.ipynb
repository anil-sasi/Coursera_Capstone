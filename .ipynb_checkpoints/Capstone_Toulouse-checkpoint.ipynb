{
 "cells": [
  {
   "cell_type": "markdown",
   "metadata": {},
   "source": [
    "# Analysis of a Business Location"
   ]
  },
  {
   "cell_type": "markdown",
   "metadata": {},
   "source": [
    "## 1. Introduction"
   ]
  },
  {
   "cell_type": "code",
   "execution_count": null,
   "metadata": {},
   "outputs": [],
   "source": []
  },
  {
   "cell_type": "markdown",
   "metadata": {},
   "source": [
    "## 2. Data"
   ]
  },
  {
   "cell_type": "code",
   "execution_count": null,
   "metadata": {},
   "outputs": [],
   "source": []
  },
  {
   "cell_type": "code",
   "execution_count": 3,
   "metadata": {},
   "outputs": [],
   "source": [
    "import pandas as pd"
   ]
  },
  {
   "cell_type": "code",
   "execution_count": 4,
   "metadata": {},
   "outputs": [
    {
     "data": {
      "text/plain": [
       "2"
      ]
     },
     "execution_count": 4,
     "metadata": {},
     "output_type": "execute_result"
    }
   ],
   "source": [
    "url = \"https://commons.wikimedia.org/wiki/Category:Toulouse_Amidonniers\"\n",
    "df_list = pd.read_html(url)\n",
    "\n",
    "len(df_list)"
   ]
  },
  {
   "cell_type": "code",
   "execution_count": 5,
   "metadata": {},
   "outputs": [
    {
     "data": {
      "text/html": [
       "<div>\n",
       "<style scoped>\n",
       "    .dataframe tbody tr th:only-of-type {\n",
       "        vertical-align: middle;\n",
       "    }\n",
       "\n",
       "    .dataframe tbody tr th {\n",
       "        vertical-align: top;\n",
       "    }\n",
       "\n",
       "    .dataframe thead th {\n",
       "        text-align: right;\n",
       "    }\n",
       "</style>\n",
       "<table border=\"1\" class=\"dataframe\">\n",
       "  <thead>\n",
       "    <tr style=\"text-align: right;\">\n",
       "      <th></th>\n",
       "      <th>0</th>\n",
       "      <th>1</th>\n",
       "    </tr>\n",
       "  </thead>\n",
       "  <tbody>\n",
       "    <tr>\n",
       "      <th>0</th>\n",
       "      <td>human settlement in France</td>\n",
       "      <td>human settlement in France</td>\n",
       "    </tr>\n",
       "    <tr>\n",
       "      <th>1</th>\n",
       "      <td>Upload media</td>\n",
       "      <td>Upload media</td>\n",
       "    </tr>\n",
       "    <tr>\n",
       "      <th>2</th>\n",
       "      <td>Instance of</td>\n",
       "      <td>neighborhood</td>\n",
       "    </tr>\n",
       "    <tr>\n",
       "      <th>3</th>\n",
       "      <td>Location</td>\n",
       "      <td>Toulouse, Occitania</td>\n",
       "    </tr>\n",
       "    <tr>\n",
       "      <th>4</th>\n",
       "      <td>43° 36′ 26.38″ N, 1° 25′ 20.68″ E OpenStreetMa...</td>\n",
       "      <td>43° 36′ 26.38″ N, 1° 25′ 20.68″ E OpenStreetMa...</td>\n",
       "    </tr>\n",
       "    <tr>\n",
       "      <th>5</th>\n",
       "      <td>Authority control Q2843286</td>\n",
       "      <td>Authority control Q2843286</td>\n",
       "    </tr>\n",
       "    <tr>\n",
       "      <th>6</th>\n",
       "      <td>Authority control</td>\n",
       "      <td>NaN</td>\n",
       "    </tr>\n",
       "    <tr>\n",
       "      <th>7</th>\n",
       "      <td>Q2843286</td>\n",
       "      <td>NaN</td>\n",
       "    </tr>\n",
       "    <tr>\n",
       "      <th>8</th>\n",
       "      <td>Reasonator PetScan Scholia Statistics WikiShoo...</td>\n",
       "      <td>Reasonator PetScan Scholia Statistics WikiShoo...</td>\n",
       "    </tr>\n",
       "    <tr>\n",
       "      <th>9</th>\n",
       "      <td>NaN</td>\n",
       "      <td>NaN</td>\n",
       "    </tr>\n",
       "  </tbody>\n",
       "</table>\n",
       "</div>"
      ],
      "text/plain": [
       "                                                   0  \\\n",
       "0                         human settlement in France   \n",
       "1                                       Upload media   \n",
       "2                                        Instance of   \n",
       "3                                           Location   \n",
       "4  43° 36′ 26.38″ N, 1° 25′ 20.68″ E OpenStreetMa...   \n",
       "5                         Authority control Q2843286   \n",
       "6                                  Authority control   \n",
       "7                                           Q2843286   \n",
       "8  Reasonator PetScan Scholia Statistics WikiShoo...   \n",
       "9                                                NaN   \n",
       "\n",
       "                                                   1  \n",
       "0                         human settlement in France  \n",
       "1                                       Upload media  \n",
       "2                                       neighborhood  \n",
       "3                                Toulouse, Occitania  \n",
       "4  43° 36′ 26.38″ N, 1° 25′ 20.68″ E OpenStreetMa...  \n",
       "5                         Authority control Q2843286  \n",
       "6                                                NaN  \n",
       "7                                                NaN  \n",
       "8  Reasonator PetScan Scholia Statistics WikiShoo...  \n",
       "9                                                NaN  "
      ]
     },
     "execution_count": 5,
     "metadata": {},
     "output_type": "execute_result"
    }
   ],
   "source": [
    "df_list[0]"
   ]
  },
  {
   "cell_type": "code",
   "execution_count": 6,
   "metadata": {},
   "outputs": [
    {
     "data": {
      "text/html": [
       "<div>\n",
       "<style scoped>\n",
       "    .dataframe tbody tr th:only-of-type {\n",
       "        vertical-align: middle;\n",
       "    }\n",
       "\n",
       "    .dataframe tbody tr th {\n",
       "        vertical-align: top;\n",
       "    }\n",
       "\n",
       "    .dataframe thead th {\n",
       "        text-align: right;\n",
       "    }\n",
       "</style>\n",
       "<table border=\"1\" class=\"dataframe\">\n",
       "  <thead>\n",
       "    <tr style=\"text-align: right;\">\n",
       "      <th></th>\n",
       "      <th>Geo Point</th>\n",
       "      <th>Libellé des grands quartier</th>\n",
       "    </tr>\n",
       "  </thead>\n",
       "  <tbody>\n",
       "    <tr>\n",
       "      <th>0</th>\n",
       "      <td>43.607587822, 1.43979368004</td>\n",
       "      <td>ARNAUD BERNARD</td>\n",
       "    </tr>\n",
       "    <tr>\n",
       "      <th>1</th>\n",
       "      <td>43.6134014354, 1.44269511567</td>\n",
       "      <td>LES CHALETS</td>\n",
       "    </tr>\n",
       "    <tr>\n",
       "      <th>2</th>\n",
       "      <td>43.6191621779, 1.43195460628</td>\n",
       "      <td>MINIMES</td>\n",
       "    </tr>\n",
       "    <tr>\n",
       "      <th>3</th>\n",
       "      <td>43.5791097556, 1.45915760009</td>\n",
       "      <td>SAUZELONG - RANGUEIL</td>\n",
       "    </tr>\n",
       "    <tr>\n",
       "      <th>4</th>\n",
       "      <td>43.579089711, 1.41516717099</td>\n",
       "      <td>FAOURETTE</td>\n",
       "    </tr>\n",
       "  </tbody>\n",
       "</table>\n",
       "</div>"
      ],
      "text/plain": [
       "                      Geo Point Libellé des grands quartier\n",
       "0   43.607587822, 1.43979368004              ARNAUD BERNARD\n",
       "1  43.6134014354, 1.44269511567                 LES CHALETS\n",
       "2  43.6191621779, 1.43195460628                     MINIMES\n",
       "3  43.5791097556, 1.45915760009        SAUZELONG - RANGUEIL\n",
       "4   43.579089711, 1.41516717099                   FAOURETTE"
      ]
     },
     "execution_count": 6,
     "metadata": {},
     "output_type": "execute_result"
    }
   ],
   "source": [
    "df = pd.read_csv(r\"C:\\Users\\anil_\\Downloads\\Toulouse-grands-quartiers.csv\",sep=';')\n",
    "df.drop(labels=[\"Index\",\"GRD_QUART\",\"DEP\"],axis=1,inplace=True)\n",
    "df.head()"
   ]
  },
  {
   "cell_type": "code",
   "execution_count": 7,
   "metadata": {},
   "outputs": [
    {
     "data": {
      "text/html": [
       "<div>\n",
       "<style scoped>\n",
       "    .dataframe tbody tr th:only-of-type {\n",
       "        vertical-align: middle;\n",
       "    }\n",
       "\n",
       "    .dataframe tbody tr th {\n",
       "        vertical-align: top;\n",
       "    }\n",
       "\n",
       "    .dataframe thead th {\n",
       "        text-align: right;\n",
       "    }\n",
       "</style>\n",
       "<table border=\"1\" class=\"dataframe\">\n",
       "  <thead>\n",
       "    <tr style=\"text-align: right;\">\n",
       "      <th></th>\n",
       "      <th>Coordinates</th>\n",
       "      <th>Neighbourhood</th>\n",
       "    </tr>\n",
       "  </thead>\n",
       "  <tbody>\n",
       "    <tr>\n",
       "      <th>0</th>\n",
       "      <td>43.607587822, 1.43979368004</td>\n",
       "      <td>ARNAUD BERNARD</td>\n",
       "    </tr>\n",
       "    <tr>\n",
       "      <th>1</th>\n",
       "      <td>43.6134014354, 1.44269511567</td>\n",
       "      <td>LES CHALETS</td>\n",
       "    </tr>\n",
       "    <tr>\n",
       "      <th>2</th>\n",
       "      <td>43.6191621779, 1.43195460628</td>\n",
       "      <td>MINIMES</td>\n",
       "    </tr>\n",
       "    <tr>\n",
       "      <th>3</th>\n",
       "      <td>43.5791097556, 1.45915760009</td>\n",
       "      <td>SAUZELONG - RANGUEIL</td>\n",
       "    </tr>\n",
       "    <tr>\n",
       "      <th>4</th>\n",
       "      <td>43.579089711, 1.41516717099</td>\n",
       "      <td>FAOURETTE</td>\n",
       "    </tr>\n",
       "  </tbody>\n",
       "</table>\n",
       "</div>"
      ],
      "text/plain": [
       "                    Coordinates         Neighbourhood\n",
       "0   43.607587822, 1.43979368004        ARNAUD BERNARD\n",
       "1  43.6134014354, 1.44269511567           LES CHALETS\n",
       "2  43.6191621779, 1.43195460628               MINIMES\n",
       "3  43.5791097556, 1.45915760009  SAUZELONG - RANGUEIL\n",
       "4   43.579089711, 1.41516717099             FAOURETTE"
      ]
     },
     "execution_count": 7,
     "metadata": {},
     "output_type": "execute_result"
    }
   ],
   "source": [
    "df.rename(columns={\"Geo Point\":\"Coordinates\",\"Libellé des grands quartier\":\"Neighbourhood\"},inplace=True)\n",
    "df.head()"
   ]
  },
  {
   "cell_type": "code",
   "execution_count": 8,
   "metadata": {},
   "outputs": [
    {
     "data": {
      "text/plain": [
       "Coordinates      object\n",
       "Neighbourhood    object\n",
       "dtype: object"
      ]
     },
     "execution_count": 8,
     "metadata": {},
     "output_type": "execute_result"
    }
   ],
   "source": [
    "df.dtypes"
   ]
  },
  {
   "cell_type": "code",
   "execution_count": 9,
   "metadata": {},
   "outputs": [
    {
     "data": {
      "text/html": [
       "<div>\n",
       "<style scoped>\n",
       "    .dataframe tbody tr th:only-of-type {\n",
       "        vertical-align: middle;\n",
       "    }\n",
       "\n",
       "    .dataframe tbody tr th {\n",
       "        vertical-align: top;\n",
       "    }\n",
       "\n",
       "    .dataframe thead th {\n",
       "        text-align: right;\n",
       "    }\n",
       "</style>\n",
       "<table border=\"1\" class=\"dataframe\">\n",
       "  <thead>\n",
       "    <tr style=\"text-align: right;\">\n",
       "      <th></th>\n",
       "      <th>Neighbourhood</th>\n",
       "      <th>Latitude</th>\n",
       "      <th>Longitude</th>\n",
       "    </tr>\n",
       "  </thead>\n",
       "  <tbody>\n",
       "    <tr>\n",
       "      <th>0</th>\n",
       "      <td>ARNAUD BERNARD</td>\n",
       "      <td>43.607588</td>\n",
       "      <td>1.439794</td>\n",
       "    </tr>\n",
       "    <tr>\n",
       "      <th>1</th>\n",
       "      <td>LES CHALETS</td>\n",
       "      <td>43.613401</td>\n",
       "      <td>1.442695</td>\n",
       "    </tr>\n",
       "    <tr>\n",
       "      <th>2</th>\n",
       "      <td>MINIMES</td>\n",
       "      <td>43.619162</td>\n",
       "      <td>1.431955</td>\n",
       "    </tr>\n",
       "    <tr>\n",
       "      <th>3</th>\n",
       "      <td>SAUZELONG - RANGUEIL</td>\n",
       "      <td>43.579110</td>\n",
       "      <td>1.459158</td>\n",
       "    </tr>\n",
       "    <tr>\n",
       "      <th>4</th>\n",
       "      <td>FAOURETTE</td>\n",
       "      <td>43.579090</td>\n",
       "      <td>1.415167</td>\n",
       "    </tr>\n",
       "  </tbody>\n",
       "</table>\n",
       "</div>"
      ],
      "text/plain": [
       "          Neighbourhood   Latitude  Longitude\n",
       "0        ARNAUD BERNARD  43.607588   1.439794\n",
       "1           LES CHALETS  43.613401   1.442695\n",
       "2               MINIMES  43.619162   1.431955\n",
       "3  SAUZELONG - RANGUEIL  43.579110   1.459158\n",
       "4             FAOURETTE  43.579090   1.415167"
      ]
     },
     "execution_count": 9,
     "metadata": {},
     "output_type": "execute_result"
    }
   ],
   "source": [
    "df_coords = df[\"Coordinates\"].str.split(\", \",expand=True)\n",
    "df.drop(labels=\"Coordinates\",axis=1,inplace=True)\n",
    "df[\"Latitude\"] = df_coords[0].astype(\"float64\")\n",
    "df[\"Longitude\"] = df_coords[1].astype(\"float64\")\n",
    "df.head()"
   ]
  },
  {
   "cell_type": "code",
   "execution_count": 10,
   "metadata": {},
   "outputs": [],
   "source": [
    "import folium\n",
    "import requests\n",
    "import json\n",
    "from pandas.io.json import json_normalize"
   ]
  },
  {
   "cell_type": "code",
   "execution_count": 11,
   "metadata": {},
   "outputs": [
    {
     "name": "stdout",
     "output_type": "stream",
     "text": [
      "The geograpical coordinate of Toulouse, France are 43.6044622, 1.4442469.\n"
     ]
    }
   ],
   "source": [
    "from geopy.geocoders import Nominatim\n",
    "\n",
    "address = 'Toulouse, France'\n",
    "\n",
    "geolocator = Nominatim(user_agent=\"toul_explorer\")\n",
    "location = geolocator.geocode(address)\n",
    "latitude = location.latitude\n",
    "longitude = location.longitude\n",
    "print('The geograpical coordinate of Toulouse, France are {}, {}.'.format(latitude, longitude))"
   ]
  },
  {
   "cell_type": "code",
   "execution_count": 12,
   "metadata": {},
   "outputs": [
    {
     "data": {
      "text/html": [
       "<div style=\"width:100%;\"><div style=\"position:relative;width:100%;height:0;padding-bottom:60%;\"><span style=\"color:#565656\">Make this Notebook Trusted to load map: File -> Trust Notebook</span><iframe src=\"about:blank\" style=\"position:absolute;width:100%;height:100%;left:0;top:0;border:none !important;\" data-html=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 onload=\"this.contentDocument.open();this.contentDocument.write(atob(this.getAttribute('data-html')));this.contentDocument.close();\" allowfullscreen webkitallowfullscreen mozallowfullscreen></iframe></div></div>"
      ],
      "text/plain": [
       "<folium.folium.Map at 0x216213bdb08>"
      ]
     },
     "execution_count": 12,
     "metadata": {},
     "output_type": "execute_result"
    }
   ],
   "source": [
    "map_toulouse = folium.Map(location=[latitude, longitude], zoom_start=12)\n",
    "\n",
    "for lat, lng, neighborhood in zip(df['Latitude'], df['Longitude'], df['Neighbourhood']):\n",
    "    label = '{}'.format(neighborhood)\n",
    "    label = folium.Popup(label, parse_html=True)\n",
    "    folium.CircleMarker(\n",
    "        [lat, lng],\n",
    "        radius=5,\n",
    "        popup=label,\n",
    "        color='blue',\n",
    "        fill=True,\n",
    "        fill_color='#3186cc',\n",
    "        fill_opacity=0.7,\n",
    "        parse_html=False).add_to(map_toulouse)  \n",
    "    \n",
    "map_toulouse"
   ]
  },
  {
   "cell_type": "code",
   "execution_count": 55,
   "metadata": {},
   "outputs": [],
   "source": [
    "CLIENT_ID = 'N4XEJHYYGVKOE51VR0L1PGEINRMDOWDPSSUS01S0BH4F0ANE'\n",
    "CLIENT_SECRET = '1NQ1YZXJ2G4KOWYC4U0IDNZQ0HT5EAWSWEBDTU1UWJYGNYHT'\n",
    "VERSION = '20200905'\n",
    "limit = 100\n",
    "radius = 300"
   ]
  },
  {
   "cell_type": "code",
   "execution_count": 56,
   "metadata": {},
   "outputs": [],
   "source": [
    "neighborhood_latitude = df.loc[0, 'Latitude']\n",
    "neighborhood_longitude = df.loc[0, 'Longitude']\n",
    "\n",
    "neighborhood_name = df.loc[0, 'Neighbourhood']"
   ]
  },
  {
   "cell_type": "code",
   "execution_count": 28,
   "metadata": {},
   "outputs": [],
   "source": [
    "\n",
    "url = \"https://api.foursquare.com/v2/venues/explore?client_id={}&client_secret={}&v={}&ll={},{}&radius={}&limit={}\".format(\n",
    "CLIENT_ID,CLIENT_SECRET,VERSION,neighborhood_latitude,neighborhood_longitude,radius,limit)\n",
    "\n",
    "results = requests.get(url).json()"
   ]
  },
  {
   "cell_type": "code",
   "execution_count": 16,
   "metadata": {},
   "outputs": [],
   "source": [
    "def get_category_type(row):\n",
    "    try:\n",
    "        categories_list = row['categories']\n",
    "    except:\n",
    "        categories_list = row['venue.categories']\n",
    "        \n",
    "    if len(categories_list) == 0:\n",
    "        return None\n",
    "    else:\n",
    "        return categories_list[0]['name']"
   ]
  },
  {
   "cell_type": "code",
   "execution_count": 17,
   "metadata": {},
   "outputs": [
    {
     "name": "stderr",
     "output_type": "stream",
     "text": [
      "C:\\Users\\anil_\\anaconda3\\lib\\site-packages\\ipykernel_launcher.py:3: FutureWarning: pandas.io.json.json_normalize is deprecated, use pandas.json_normalize instead\n",
      "  This is separate from the ipykernel package so we can avoid doing imports until\n"
     ]
    },
    {
     "data": {
      "text/html": [
       "<div>\n",
       "<style scoped>\n",
       "    .dataframe tbody tr th:only-of-type {\n",
       "        vertical-align: middle;\n",
       "    }\n",
       "\n",
       "    .dataframe tbody tr th {\n",
       "        vertical-align: top;\n",
       "    }\n",
       "\n",
       "    .dataframe thead th {\n",
       "        text-align: right;\n",
       "    }\n",
       "</style>\n",
       "<table border=\"1\" class=\"dataframe\">\n",
       "  <thead>\n",
       "    <tr style=\"text-align: right;\">\n",
       "      <th></th>\n",
       "      <th>name</th>\n",
       "      <th>categories</th>\n",
       "      <th>lat</th>\n",
       "      <th>lng</th>\n",
       "    </tr>\n",
       "  </thead>\n",
       "  <tbody>\n",
       "    <tr>\n",
       "      <th>0</th>\n",
       "      <td>Breughel l'Ancien</td>\n",
       "      <td>Pub</td>\n",
       "      <td>43.609363</td>\n",
       "      <td>1.439101</td>\n",
       "    </tr>\n",
       "    <tr>\n",
       "      <th>1</th>\n",
       "      <td>Place Saint-Sernin</td>\n",
       "      <td>Plaza</td>\n",
       "      <td>43.608278</td>\n",
       "      <td>1.441076</td>\n",
       "    </tr>\n",
       "    <tr>\n",
       "      <th>2</th>\n",
       "      <td>Creativ'Yogurt</td>\n",
       "      <td>Snack Place</td>\n",
       "      <td>43.605979</td>\n",
       "      <td>1.441231</td>\n",
       "    </tr>\n",
       "    <tr>\n",
       "      <th>3</th>\n",
       "      <td>George &amp; the Dragon</td>\n",
       "      <td>Pub</td>\n",
       "      <td>43.607416</td>\n",
       "      <td>1.439559</td>\n",
       "    </tr>\n",
       "    <tr>\n",
       "      <th>4</th>\n",
       "      <td>Midi Minuit</td>\n",
       "      <td>French Restaurant</td>\n",
       "      <td>43.607486</td>\n",
       "      <td>1.439689</td>\n",
       "    </tr>\n",
       "  </tbody>\n",
       "</table>\n",
       "</div>"
      ],
      "text/plain": [
       "                  name         categories        lat       lng\n",
       "0    Breughel l'Ancien                Pub  43.609363  1.439101\n",
       "1   Place Saint-Sernin              Plaza  43.608278  1.441076\n",
       "2       Creativ'Yogurt        Snack Place  43.605979  1.441231\n",
       "3  George & the Dragon                Pub  43.607416  1.439559\n",
       "4          Midi Minuit  French Restaurant  43.607486  1.439689"
      ]
     },
     "execution_count": 17,
     "metadata": {},
     "output_type": "execute_result"
    }
   ],
   "source": [
    "venues = results['response']['groups'][0]['items']\n",
    "    \n",
    "nearby_venues = json_normalize(venues)\n",
    "\n",
    "filtered_columns = ['venue.name', 'venue.categories', 'venue.location.lat', 'venue.location.lng']\n",
    "nearby_venues = nearby_venues.loc[:, filtered_columns]\n",
    "\n",
    "nearby_venues['venue.categories'] = nearby_venues.apply(get_category_type, axis=1)\n",
    "\n",
    "nearby_venues.columns = [col.split(\".\")[-1] for col in nearby_venues.columns]\n",
    "\n",
    "nearby_venues.head()"
   ]
  },
  {
   "cell_type": "code",
   "execution_count": 18,
   "metadata": {},
   "outputs": [
    {
     "name": "stdout",
     "output_type": "stream",
     "text": [
      "24 venues were returned by Foursquare.\n"
     ]
    }
   ],
   "source": [
    "print('{} venues were returned by Foursquare.'.format(nearby_venues.shape[0]))"
   ]
  },
  {
   "cell_type": "code",
   "execution_count": 90,
   "metadata": {},
   "outputs": [],
   "source": [
    "categoryID = [\"4bf58dd8d48988d18d941735\",\"56aa371be4b08b9a8d573554\",\"52e81612bcbc57f1066b7a26\",\"4d4b7105d754a06377d81259\",\"52e81612bcbc57f1066b79eb\",\"52e81612bcbc57f1066b79e6\",\"52e81612bcbc57f1066b79ea\",\"4bf58dd8d48988d1f1931735\",\"4bf58dd8d48988d1e4931735\"]"
   ]
  },
  {
   "cell_type": "code",
   "execution_count": 93,
   "metadata": {},
   "outputs": [
    {
     "data": {
      "text/plain": [
       "{'meta': {'code': 200, 'requestId': '5fa862b6202f467e36d11be8'},\n",
       " 'response': {'venues': []}}"
      ]
     },
     "execution_count": 93,
     "metadata": {},
     "output_type": "execute_result"
    }
   ],
   "source": [
    "url_1 = \"https://api.foursquare.com/v2/venues/search?client_id={}&client_secret={}&v={}&ll={},{}&categoryId={}&radius={}&limit={}\".format(\n",
    "CLIENT_ID,CLIENT_SECRET,VERSION,neighborhood_latitude,neighborhood_longitude,categoryID[8],radius,limit)\n",
    "\n",
    "results_1 = requests.get(url_1).json()\n",
    "results_1"
   ]
  },
  {
   "cell_type": "code",
   "execution_count": 92,
   "metadata": {},
   "outputs": [
    {
     "name": "stderr",
     "output_type": "stream",
     "text": [
      "C:\\Users\\anil_\\anaconda3\\lib\\site-packages\\ipykernel_launcher.py:3: FutureWarning: pandas.io.json.json_normalize is deprecated, use pandas.json_normalize instead\n",
      "  This is separate from the ipykernel package so we can avoid doing imports until\n"
     ]
    },
    {
     "data": {
      "text/html": [
       "<div>\n",
       "<style scoped>\n",
       "    .dataframe tbody tr th:only-of-type {\n",
       "        vertical-align: middle;\n",
       "    }\n",
       "\n",
       "    .dataframe tbody tr th {\n",
       "        vertical-align: top;\n",
       "    }\n",
       "\n",
       "    .dataframe thead th {\n",
       "        text-align: right;\n",
       "    }\n",
       "</style>\n",
       "<table border=\"1\" class=\"dataframe\">\n",
       "  <thead>\n",
       "    <tr style=\"text-align: right;\">\n",
       "      <th></th>\n",
       "      <th>name</th>\n",
       "      <th>categories</th>\n",
       "      <th>lat</th>\n",
       "      <th>lng</th>\n",
       "    </tr>\n",
       "  </thead>\n",
       "  <tbody>\n",
       "    <tr>\n",
       "      <th>0</th>\n",
       "      <td>Yoga Huit</td>\n",
       "      <td>General Entertainment</td>\n",
       "      <td>43.606232</td>\n",
       "      <td>1.440657</td>\n",
       "    </tr>\n",
       "    <tr>\n",
       "      <th>1</th>\n",
       "      <td>Planete Gym</td>\n",
       "      <td>General Entertainment</td>\n",
       "      <td>43.606353</td>\n",
       "      <td>1.440109</td>\n",
       "    </tr>\n",
       "  </tbody>\n",
       "</table>\n",
       "</div>"
      ],
      "text/plain": [
       "          name             categories        lat       lng\n",
       "0    Yoga Huit  General Entertainment  43.606232  1.440657\n",
       "1  Planete Gym  General Entertainment  43.606353  1.440109"
      ]
     },
     "execution_count": 92,
     "metadata": {},
     "output_type": "execute_result"
    }
   ],
   "source": [
    "venues_1 = results_1['response']['venues']\n",
    "    \n",
    "yoga_venues = json_normalize(venues_1)\n",
    "\n",
    "req_columns = ['name', 'categories', 'location.lat', 'location.lng']\n",
    "yoga_venues = yoga_venues.loc[:, req_columns]\n",
    "\n",
    "yoga_venues['categories'] = yoga_venues.apply(get_category_type, axis=1)\n",
    "\n",
    "yoga_venues.columns = [col.split(\".\")[-1] for col in yoga_venues.columns]\n",
    "\n",
    "yoga_venues"
   ]
  },
  {
   "cell_type": "code",
   "execution_count": null,
   "metadata": {},
   "outputs": [],
   "source": []
  }
 ],
 "metadata": {
  "kernelspec": {
   "display_name": "Python 3",
   "language": "python",
   "name": "python3"
  },
  "language_info": {
   "codemirror_mode": {
    "name": "ipython",
    "version": 3
   },
   "file_extension": ".py",
   "mimetype": "text/x-python",
   "name": "python",
   "nbconvert_exporter": "python",
   "pygments_lexer": "ipython3",
   "version": "3.7.6"
  }
 },
 "nbformat": 4,
 "nbformat_minor": 4
}
